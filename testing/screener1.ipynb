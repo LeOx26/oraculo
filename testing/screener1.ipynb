{
 "cells": [
  {
   "cell_type": "code",
   "execution_count": 1,
<<<<<<< HEAD
   "id": "00dcaa0d-0292-49e2-8abb-ab146cb0f7a9",
=======
>>>>>>> c1e87248abaf9f635cddd24d49a2d80ef9c11b92
   "metadata": {},
   "outputs": [],
   "source": [
    "import pandas as pd\n",
    "import yfinance as yf\n",
<<<<<<< HEAD
    "import plotly.express as px\n",
    "import pandas_datareader as pdr"
=======
    "import plotly.express as px"
>>>>>>> c1e87248abaf9f635cddd24d49a2d80ef9c11b92
   ]
  },
  {
   "cell_type": "code",
<<<<<<< HEAD
   "execution_count": 2,
   "id": "92b19e5c-d441-4bb7-aa8d-b37f251a66d1",
   "metadata": {},
   "outputs": [
    {
     "ename": "RemoteDataError",
     "evalue": "Error connecting to 'ftp.nasdaqtrader.com': timed out",
     "output_type": "error",
     "traceback": [
      "\u001b[0;31m---------------------------------------------------------------------------\u001b[0m",
      "\u001b[0;31mTimeoutError\u001b[0m                              Traceback (most recent call last)",
      "File \u001b[0;32m~/.conda/envs/oraculo/lib/python3.10/site-packages/pandas_datareader/nasdaq_trader.py:41\u001b[0m, in \u001b[0;36m_download_nasdaq_symbols\u001b[0;34m(timeout)\u001b[0m\n\u001b[1;32m     40\u001b[0m \u001b[38;5;28;01mtry\u001b[39;00m:\n\u001b[0;32m---> 41\u001b[0m     ftp_session \u001b[38;5;241m=\u001b[39m \u001b[43mFTP\u001b[49m\u001b[43m(\u001b[49m\u001b[43m_NASDAQ_FTP_SERVER\u001b[49m\u001b[43m,\u001b[49m\u001b[43m \u001b[49m\u001b[43mtimeout\u001b[49m\u001b[38;5;241;43m=\u001b[39;49m\u001b[43mtimeout\u001b[49m\u001b[43m)\u001b[49m\n\u001b[1;32m     42\u001b[0m     ftp_session\u001b[38;5;241m.\u001b[39mlogin()\n",
      "File \u001b[0;32m~/.conda/envs/oraculo/lib/python3.10/ftplib.py:121\u001b[0m, in \u001b[0;36mFTP.__init__\u001b[0;34m(self, host, user, passwd, acct, timeout, source_address, encoding)\u001b[0m\n\u001b[1;32m    120\u001b[0m \u001b[38;5;28;01mif\u001b[39;00m host:\n\u001b[0;32m--> 121\u001b[0m     \u001b[38;5;28;43mself\u001b[39;49m\u001b[38;5;241;43m.\u001b[39;49m\u001b[43mconnect\u001b[49m\u001b[43m(\u001b[49m\u001b[43mhost\u001b[49m\u001b[43m)\u001b[49m\n\u001b[1;32m    122\u001b[0m     \u001b[38;5;28;01mif\u001b[39;00m user:\n",
      "File \u001b[0;32m~/.conda/envs/oraculo/lib/python3.10/ftplib.py:158\u001b[0m, in \u001b[0;36mFTP.connect\u001b[0;34m(self, host, port, timeout, source_address)\u001b[0m\n\u001b[1;32m    157\u001b[0m sys\u001b[38;5;241m.\u001b[39maudit(\u001b[38;5;124m\"\u001b[39m\u001b[38;5;124mftplib.connect\u001b[39m\u001b[38;5;124m\"\u001b[39m, \u001b[38;5;28mself\u001b[39m, \u001b[38;5;28mself\u001b[39m\u001b[38;5;241m.\u001b[39mhost, \u001b[38;5;28mself\u001b[39m\u001b[38;5;241m.\u001b[39mport)\n\u001b[0;32m--> 158\u001b[0m \u001b[38;5;28mself\u001b[39m\u001b[38;5;241m.\u001b[39msock \u001b[38;5;241m=\u001b[39m \u001b[43msocket\u001b[49m\u001b[38;5;241;43m.\u001b[39;49m\u001b[43mcreate_connection\u001b[49m\u001b[43m(\u001b[49m\u001b[43m(\u001b[49m\u001b[38;5;28;43mself\u001b[39;49m\u001b[38;5;241;43m.\u001b[39;49m\u001b[43mhost\u001b[49m\u001b[43m,\u001b[49m\u001b[43m \u001b[49m\u001b[38;5;28;43mself\u001b[39;49m\u001b[38;5;241;43m.\u001b[39;49m\u001b[43mport\u001b[49m\u001b[43m)\u001b[49m\u001b[43m,\u001b[49m\u001b[43m \u001b[49m\u001b[38;5;28;43mself\u001b[39;49m\u001b[38;5;241;43m.\u001b[39;49m\u001b[43mtimeout\u001b[49m\u001b[43m,\u001b[49m\n\u001b[1;32m    159\u001b[0m \u001b[43m                                     \u001b[49m\u001b[43msource_address\u001b[49m\u001b[38;5;241;43m=\u001b[39;49m\u001b[38;5;28;43mself\u001b[39;49m\u001b[38;5;241;43m.\u001b[39;49m\u001b[43msource_address\u001b[49m\u001b[43m)\u001b[49m\n\u001b[1;32m    160\u001b[0m \u001b[38;5;28mself\u001b[39m\u001b[38;5;241m.\u001b[39maf \u001b[38;5;241m=\u001b[39m \u001b[38;5;28mself\u001b[39m\u001b[38;5;241m.\u001b[39msock\u001b[38;5;241m.\u001b[39mfamily\n",
      "File \u001b[0;32m~/.conda/envs/oraculo/lib/python3.10/socket.py:845\u001b[0m, in \u001b[0;36mcreate_connection\u001b[0;34m(address, timeout, source_address)\u001b[0m\n\u001b[1;32m    844\u001b[0m \u001b[38;5;28;01mtry\u001b[39;00m:\n\u001b[0;32m--> 845\u001b[0m     \u001b[38;5;28;01mraise\u001b[39;00m err\n\u001b[1;32m    846\u001b[0m \u001b[38;5;28;01mfinally\u001b[39;00m:\n\u001b[1;32m    847\u001b[0m     \u001b[38;5;66;03m# Break explicitly a reference cycle\u001b[39;00m\n",
      "File \u001b[0;32m~/.conda/envs/oraculo/lib/python3.10/socket.py:833\u001b[0m, in \u001b[0;36mcreate_connection\u001b[0;34m(address, timeout, source_address)\u001b[0m\n\u001b[1;32m    832\u001b[0m     sock\u001b[38;5;241m.\u001b[39mbind(source_address)\n\u001b[0;32m--> 833\u001b[0m \u001b[43msock\u001b[49m\u001b[38;5;241;43m.\u001b[39;49m\u001b[43mconnect\u001b[49m\u001b[43m(\u001b[49m\u001b[43msa\u001b[49m\u001b[43m)\u001b[49m\n\u001b[1;32m    834\u001b[0m \u001b[38;5;66;03m# Break explicitly a reference cycle\u001b[39;00m\n",
      "\u001b[0;31mTimeoutError\u001b[0m: timed out",
      "\nDuring handling of the above exception, another exception occurred:\n",
      "\u001b[0;31mRemoteDataError\u001b[0m                           Traceback (most recent call last)",
      "Cell \u001b[0;32mIn [2], line 1\u001b[0m\n\u001b[0;32m----> 1\u001b[0m nasdaqTickersAll \u001b[38;5;241m=\u001b[39m pdr\u001b[38;5;241m.\u001b[39mget_nasdaq_symbols()\n\u001b[1;32m      2\u001b[0m nasdaqTickersAll\u001b[38;5;241m.\u001b[39mcolumns\u001b[38;5;241m.\u001b[39mvalues\n",
      "File \u001b[0;32m~/.conda/envs/oraculo/lib/python3.10/site-packages/pandas_datareader/nasdaq_trader.py:107\u001b[0m, in \u001b[0;36mget_nasdaq_symbols\u001b[0;34m(retry_count, timeout, pause)\u001b[0m\n\u001b[1;32m    105\u001b[0m \u001b[38;5;28;01mwhile\u001b[39;00m retry_count \u001b[38;5;241m>\u001b[39m \u001b[38;5;241m0\u001b[39m:\n\u001b[1;32m    106\u001b[0m     \u001b[38;5;28;01mtry\u001b[39;00m:\n\u001b[0;32m--> 107\u001b[0m         _ticker_cache \u001b[38;5;241m=\u001b[39m \u001b[43m_download_nasdaq_symbols\u001b[49m\u001b[43m(\u001b[49m\u001b[43mtimeout\u001b[49m\u001b[38;5;241;43m=\u001b[39;49m\u001b[43mtimeout\u001b[49m\u001b[43m)\u001b[49m\n\u001b[1;32m    108\u001b[0m         retry_count \u001b[38;5;241m=\u001b[39m \u001b[38;5;241m-\u001b[39m\u001b[38;5;241m1\u001b[39m\n\u001b[1;32m    109\u001b[0m     \u001b[38;5;28;01mexcept\u001b[39;00m RemoteDataError:\n\u001b[1;32m    110\u001b[0m         \u001b[38;5;66;03m# retry on any exception\u001b[39;00m\n",
      "File \u001b[0;32m~/.conda/envs/oraculo/lib/python3.10/site-packages/pandas_datareader/nasdaq_trader.py:44\u001b[0m, in \u001b[0;36m_download_nasdaq_symbols\u001b[0;34m(timeout)\u001b[0m\n\u001b[1;32m     42\u001b[0m     ftp_session\u001b[38;5;241m.\u001b[39mlogin()\n\u001b[1;32m     43\u001b[0m \u001b[38;5;28;01mexcept\u001b[39;00m all_errors \u001b[38;5;28;01mas\u001b[39;00m err:\n\u001b[0;32m---> 44\u001b[0m     \u001b[38;5;28;01mraise\u001b[39;00m RemoteDataError(\u001b[38;5;124m\"\u001b[39m\u001b[38;5;124mError connecting to \u001b[39m\u001b[38;5;132;01m%r\u001b[39;00m\u001b[38;5;124m: \u001b[39m\u001b[38;5;132;01m%s\u001b[39;00m\u001b[38;5;124m\"\u001b[39m \u001b[38;5;241m%\u001b[39m (_NASDAQ_FTP_SERVER, err))\n\u001b[1;32m     46\u001b[0m lines \u001b[38;5;241m=\u001b[39m []\n\u001b[1;32m     47\u001b[0m \u001b[38;5;28;01mtry\u001b[39;00m:\n",
      "\u001b[0;31mRemoteDataError\u001b[0m: Error connecting to 'ftp.nasdaqtrader.com': timed out"
     ]
    }
   ],
   "source": [
    "nasdaqTickersAll = pdr.get_nasdaq_symbols()\n",
    "nasdaqTickersAll.columns.values"
=======
   "execution_count": 4,
   "metadata": {},
   "outputs": [
    {
     "data": {
      "text/plain": [
       "0       A\n",
       "1      AA\n",
       "2     AAC\n",
       "3    AACG\n",
       "4    AACI\n",
       "Name: Symbol, dtype: object"
      ]
     },
     "execution_count": 4,
     "metadata": {},
     "output_type": "execute_result"
    }
   ],
   "source": [
    "nd_top = pd.read_csv('nasdaq_screener.csv')\n",
    "nd_top.Symbol.head()"
>>>>>>> c1e87248abaf9f635cddd24d49a2d80ef9c11b92
   ]
  },
  {
   "cell_type": "code",
<<<<<<< HEAD
   "execution_count": null,
   "id": "514d1543-5f7c-4dae-8806-76daf4210f88",
   "metadata": {},
   "outputs": [],
   "source": [
    "nasdaqTickersEtf = nasdaqTickersAll.loc[(nasdaqTickersAll.ETF == True) | (\n",
    "    nasdaqTickersAll.NextShares == True)]['NASDAQ Symbol']\n",
    "nasdaqTickersEtf.values"
   ]
  },
  {
   "cell_type": "code",
   "execution_count": null,
   "id": "f0cb19fa-f58b-4b39-a6f5-999e1ba5aa74",
   "metadata": {},
   "outputs": [],
   "source": [
    "nasdaqTickers = nasdaqTickersAll.loc[(nasdaqTickersAll.ETF == False) | (\n",
    "    nasdaqTickersAll.NextShares == False)]\n",
    "nasdaqTickers.loc[nasdaqTickers['NASDAQ Symbol'] == 'AAPL']\n"
   ]
  },
  {
   "cell_type": "code",
   "execution_count": null,
   "id": "c4c788d5-63c6-4c3d-9271-28dd5247ade4",
   "metadata": {},
   "outputs": [],
   "source": [
    "nasdaqTickers.loc[nasdaqTickers['Market Category'] == 'Q']"
=======
   "execution_count": 6,
   "metadata": {},
   "outputs": [
    {
     "name": "stdout",
     "output_type": "stream",
     "text": [
      "['A' 'AA' 'AAC' ... 'ZYME' 'ZYNE' 'ZYXI']\n"
     ]
    }
   ],
   "source": [
    "nasdaqTickets = nd_top.Symbol.values\n",
    "print(nasdaqTickets)"
>>>>>>> c1e87248abaf9f635cddd24d49a2d80ef9c11b92
   ]
  },
  {
   "cell_type": "code",
   "execution_count": null,
<<<<<<< HEAD
   "id": "0f4af5a4-2e1b-45ed-a3ff-b92226df23c4",
=======
>>>>>>> c1e87248abaf9f635cddd24d49a2d80ef9c11b92
   "metadata": {},
   "outputs": [],
   "source": []
  }
 ],
 "metadata": {
  "kernelspec": {
<<<<<<< HEAD
   "display_name": "oraculo:Python",
   "language": "python",
   "name": "conda-env-oraculo-py"
=======
   "display_name": "Python 3.11.0 64-bit",
   "language": "python",
   "name": "python3"
>>>>>>> c1e87248abaf9f635cddd24d49a2d80ef9c11b92
  },
  "language_info": {
   "codemirror_mode": {
    "name": "ipython",
    "version": 3
   },
   "file_extension": ".py",
   "mimetype": "text/x-python",
   "name": "python",
   "nbconvert_exporter": "python",
   "pygments_lexer": "ipython3",
<<<<<<< HEAD
   "version": "3.10.6"
  }
 },
 "nbformat": 4,
 "nbformat_minor": 5
=======
   "version": "3.11.2"
  },
  "orig_nbformat": 4,
  "vscode": {
   "interpreter": {
    "hash": "916dbcbb3f70747c44a77c7bcd40155683ae19c65e1c03b4aa3499c5328201f1"
   }
  }
 },
 "nbformat": 4,
 "nbformat_minor": 2
>>>>>>> c1e87248abaf9f635cddd24d49a2d80ef9c11b92
}
