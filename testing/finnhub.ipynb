{
 "cells": [
  {
   "cell_type": "code",
   "execution_count": 1,
   "metadata": {},
   "outputs": [],
   "source": [
    "import finnhub\n",
    "import time"
   ]
  },
  {
   "cell_type": "code",
   "execution_count": 2,
   "metadata": {},
   "outputs": [],
   "source": [
    "fnhb = finnhub.Client(api_key='c91rjeaad3if9n5lpj1g')"
   ]
  },
  {
   "cell_type": "code",
   "execution_count": 3,
   "metadata": {},
   "outputs": [],
   "source": [
    "time_end = int(time.time())\n",
    "time_start = int((time_end) - 2592000*15)"
   ]
  },
  {
   "cell_type": "code",
   "execution_count": 4,
   "metadata": {},
   "outputs": [],
   "source": [
    "import pandas as pd\n",
    "fnhb_data = fnhb.stock_candles('NNDM', '1',time_start, time_end)\n",
    "data = pd.DataFrame.from_dict(fnhb_data)"
   ]
  },
  {
   "cell_type": "code",
   "execution_count": 5,
   "metadata": {},
   "outputs": [
    {
     "data": {
      "text/html": [
       "<div>\n",
       "<style scoped>\n",
       "    .dataframe tbody tr th:only-of-type {\n",
       "        vertical-align: middle;\n",
       "    }\n",
       "\n",
       "    .dataframe tbody tr th {\n",
       "        vertical-align: top;\n",
       "    }\n",
       "\n",
       "    .dataframe thead th {\n",
       "        text-align: right;\n",
       "    }\n",
       "</style>\n",
       "<table border=\"1\" class=\"dataframe\">\n",
       "  <thead>\n",
       "    <tr style=\"text-align: right;\">\n",
       "      <th></th>\n",
       "      <th>c</th>\n",
       "      <th>h</th>\n",
       "      <th>l</th>\n",
       "      <th>o</th>\n",
       "      <th>s</th>\n",
       "      <th>t</th>\n",
       "      <th>v</th>\n",
       "    </tr>\n",
       "  </thead>\n",
       "  <tbody>\n",
       "    <tr>\n",
       "      <th>7871</th>\n",
       "      <td>3.06</td>\n",
       "      <td>3.06</td>\n",
       "      <td>3.06</td>\n",
       "      <td>3.06</td>\n",
       "      <td>ok</td>\n",
       "      <td>1649971980</td>\n",
       "      <td>342</td>\n",
       "    </tr>\n",
       "    <tr>\n",
       "      <th>7872</th>\n",
       "      <td>3.06</td>\n",
       "      <td>3.06</td>\n",
       "      <td>3.06</td>\n",
       "      <td>3.06</td>\n",
       "      <td>ok</td>\n",
       "      <td>1649975280</td>\n",
       "      <td>100</td>\n",
       "    </tr>\n",
       "    <tr>\n",
       "      <th>7873</th>\n",
       "      <td>3.04</td>\n",
       "      <td>3.04</td>\n",
       "      <td>3.04</td>\n",
       "      <td>3.04</td>\n",
       "      <td>ok</td>\n",
       "      <td>1649979960</td>\n",
       "      <td>500</td>\n",
       "    </tr>\n",
       "    <tr>\n",
       "      <th>7874</th>\n",
       "      <td>3.06</td>\n",
       "      <td>3.06</td>\n",
       "      <td>3.06</td>\n",
       "      <td>3.06</td>\n",
       "      <td>ok</td>\n",
       "      <td>1649980260</td>\n",
       "      <td>201</td>\n",
       "    </tr>\n",
       "    <tr>\n",
       "      <th>7875</th>\n",
       "      <td>3.06</td>\n",
       "      <td>3.06</td>\n",
       "      <td>3.06</td>\n",
       "      <td>3.06</td>\n",
       "      <td>ok</td>\n",
       "      <td>1649980740</td>\n",
       "      <td>600</td>\n",
       "    </tr>\n",
       "  </tbody>\n",
       "</table>\n",
       "</div>"
      ],
      "text/plain": [
       "         c     h     l     o   s           t    v\n",
       "7871  3.06  3.06  3.06  3.06  ok  1649971980  342\n",
       "7872  3.06  3.06  3.06  3.06  ok  1649975280  100\n",
       "7873  3.04  3.04  3.04  3.04  ok  1649979960  500\n",
       "7874  3.06  3.06  3.06  3.06  ok  1649980260  201\n",
       "7875  3.06  3.06  3.06  3.06  ok  1649980740  600"
      ]
     },
     "execution_count": 5,
     "metadata": {},
     "output_type": "execute_result"
    }
   ],
   "source": [
    "data.tail()"
   ]
  },
  {
   "cell_type": "code",
   "execution_count": 6,
   "metadata": {},
   "outputs": [
    {
     "data": {
      "text/plain": [
       "['c', 'h', 'l', 'o', 's', 't', 'v']"
      ]
     },
     "execution_count": 6,
     "metadata": {},
     "output_type": "execute_result"
    }
   ],
   "source": [
    "list(data)"
   ]
  },
  {
   "cell_type": "code",
   "execution_count": 7,
   "metadata": {},
   "outputs": [
    {
     "data": {
      "text/plain": [
       "['NNDM', 'CLAB.TA', 'OTIVF']"
      ]
     },
     "execution_count": 7,
     "metadata": {},
     "output_type": "execute_result"
    }
   ],
   "source": [
    "fnhb.company_peers('NNDM')"
   ]
  }
 ],
 "metadata": {
  "kernelspec": {
   "display_name": "Python 3.10.6 ('.venv': venv)",
   "language": "python",
   "name": "python3"
  },
  "language_info": {
   "codemirror_mode": {
    "name": "ipython",
    "version": 3
   },
   "file_extension": ".py",
   "mimetype": "text/x-python",
   "name": "python",
   "nbconvert_exporter": "python",
   "pygments_lexer": "ipython3",
   "version": "3.10.6"
  },
  "orig_nbformat": 4,
  "vscode": {
   "interpreter": {
    "hash": "29756bf1ebcf93e3062d576d99efe2d6985ed2ed937d1cb7752b3736ff04dd16"
   }
  }
 },
 "nbformat": 4,
 "nbformat_minor": 2
}
