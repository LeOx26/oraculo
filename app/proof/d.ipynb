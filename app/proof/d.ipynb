{
 "cells": [
  {
   "cell_type": "code",
   "execution_count": null,
   "metadata": {},
   "outputs": [
    {
     "ename": "",
     "evalue": "",
     "output_type": "error",
     "traceback": [
      "\u001b[1;31mLa ejecución de celdas con '.venv' requiere el paquete ipykernel.\n",
      "\u001b[1;31mRun the following command to install 'ipykernel' into the Python environment. \n",
      "\u001b[1;31mCommand: '/home/leox/projects/oraculo/app/proof/.venv/bin/python -m pip install ipykernel -U --force-reinstall'"
     ]
    }
   ],
   "source": [
    "from google.cloud import bigquery\n",
    "import redis\n",
    "import json\n",
    "import requests\n",
    "from yfinance import base\n",
    "r = redis.StrictRedis('localhost')\n",
    "info=base.TickerBase('qqq').stats()"
   ]
  },
  {
   "cell_type": "code",
   "execution_count": 4,
   "metadata": {},
   "outputs": [
    {
     "data": {
      "text/plain": [
       "{'1': 'https://query2.finance.yahoo.com/v10/finance/quoteSummary/',\n",
       " '2': '?formatted=true&crumb=sm3xpA2Nbv.&lang=en-US&region=US&modules=incomeStatementHistory%2CcashflowStatementHistory%2CbalanceSheetHistory%2CincomeStatementHistoryQuarterly%2CcashflowStatementHistoryQuarterly%2CbalanceSheetHistoryQuarterly&corsDomain=finance.yahoo.com'}"
      ]
     },
     "execution_count": 4,
     "metadata": {},
     "output_type": "execute_result"
    }
   ],
   "source": [
    "fin_r = r.hget(\"yfinance_api_url\", \"financials\")\n",
    "fin = json.loads(fin_r)\n",
    "fin"
   ]
  },
  {
   "cell_type": "code",
   "execution_count": 5,
   "metadata": {},
   "outputs": [],
   "source": [
    "class fundamental:\n",
    "    def get(symbol):\n",
    "        url = fin['1'] + symbol + fin['2']\n",
    "        headersList = {\n",
    "       \"Accept\": \"*/*\",\n",
    "       \"User-Agent\": \"Thunder Client (https://www.thunderclient.com)\" \n",
    "                  } \n",
    "        response=requests.get(url, headers= headersList)\n",
    "        return response.json()"
   ]
  },
  {
   "cell_type": "code",
   "execution_count": 6,
   "metadata": {},
   "outputs": [
    {
     "name": "stdout",
     "output_type": "stream",
     "text": [
      "https://query2.finance.yahoo.com/v10/finance/quoteSummary/AMD?formatted=true&crumb=sm3xpA2Nbv.&lang=en-US&region=US&modules=incomeStatementHistory%2CcashflowStatementHistory%2CbalanceSheetHistory%2CincomeStatementHistoryQuarterly%2CcashflowStatementHistoryQuarterly%2CbalanceSheetHistoryQuarterly&corsDomain=finance.yahoo.com\n"
     ]
    }
   ],
   "source": [
    "print(fin['1'] + 'AMD' + fin['2'])\n",
    "fund_amd = fundamental.get('AMD')"
   ]
  },
  {
   "cell_type": "code",
   "execution_count": 7,
   "metadata": {},
   "outputs": [
    {
     "data": {
      "text/plain": [
       "'16.43B'"
      ]
     },
     "execution_count": 7,
     "metadata": {},
     "output_type": "execute_result"
    }
   ],
   "source": [
    "fund_amd['quoteSummary']['result'][0]['incomeStatementHistory']['incomeStatementHistory'][0]['totalRevenue']['fmt']"
   ]
  },
  {
   "cell_type": "code",
   "execution_count": 8,
   "metadata": {},
   "outputs": [],
   "source": [
    "fund_amd = fund_amd['quoteSummary']['result'][0]"
   ]
  },
  {
   "cell_type": "code",
   "execution_count": 9,
   "metadata": {},
   "outputs": [
    {
     "data": {
      "text/plain": [
       "{'raw': 1648252800, 'fmt': '2022-03-26'}"
      ]
     },
     "execution_count": 9,
     "metadata": {},
     "output_type": "execute_result"
    }
   ],
   "source": [
    "fund_amd['incomeStatementHistoryQuarterly']['incomeStatementHistory'][1]['endDate']"
   ]
  },
  {
   "cell_type": "code",
   "execution_count": 10,
   "metadata": {},
   "outputs": [],
   "source": [
    "import pandas as pd\n",
    "from urllib.request import Request, urlopen\n",
    "result = Request('https://ark-funds.com/wp-content/uploads/funds-etf-csv/ARK_INNOVATION_ETF_ARKK_HOLDINGS.csv')\n",
    "result.add_header('User-Agent', 'Chrome')\n",
    "req = urlopen(result)\n",
    "ainn = pd.read_csv(req)"
   ]
  },
  {
   "cell_type": "code",
   "execution_count": 158,
   "metadata": {},
   "outputs": [],
   "source": [
    "import asyncio"
   ]
  },
  {
   "cell_type": "code",
   "execution_count": 12,
   "metadata": {},
   "outputs": [],
   "source": [
    "import pandas_datareader as pdr\n"
   ]
  },
  {
   "cell_type": "code",
   "execution_count": 13,
   "metadata": {},
   "outputs": [
    {
     "data": {
      "text/plain": [
       "{'ebitdaMargins': 0.33105,\n",
       " 'profitMargins': 0.2531,\n",
       " 'grossMargins': 0.43310001,\n",
       " 'operatingCashflow': 122151002112,\n",
       " 'revenueGrowth': 0.081,\n",
       " 'operatingMargins': 0.30289,\n",
       " 'ebitda': 130541002752,\n",
       " 'targetLowPrice': 122,\n",
       " 'recommendationKey': 'buy',\n",
       " 'grossProfits': 170782000000,\n",
       " 'freeCashflow': 90215251968,\n",
       " 'targetMedianPrice': 180,\n",
       " 'currentPrice': 150.65,\n",
       " 'earningsGrowth': 0.048,\n",
       " 'currentRatio': 0.879,\n",
       " 'returnOnAssets': 0.21214001,\n",
       " 'numberOfAnalystOpinions': 40,\n",
       " 'targetMeanPrice': 180.81,\n",
       " 'debtToEquity': 261.446,\n",
       " 'returnOnEquity': 1.75459,\n",
       " 'targetHighPrice': 214,\n",
       " 'totalCash': 48304001024,\n",
       " 'totalDebt': 132480000000,\n",
       " 'totalRevenue': 394328014848,\n",
       " 'totalCashPerShare': 3.036,\n",
       " 'financialCurrency': 'USD',\n",
       " 'maxAge': 86400,\n",
       " 'revenuePerShare': 24.317,\n",
       " 'quickRatio': 0.709,\n",
       " 'recommendationMean': 1.9}"
      ]
     },
     "execution_count": 13,
     "metadata": {},
     "output_type": "execute_result"
    }
   ],
   "source": [
    "from yfinance import base\n",
    "info=base.TickerBase(\"aapl\").stats()\n",
    "info['financialData']\n"
   ]
  },
  {
   "cell_type": "code",
   "execution_count": 14,
   "metadata": {},
   "outputs": [],
   "source": [
    "dividendo=info['earnings']['earningsChart']"
   ]
  },
  {
   "cell_type": "code",
   "execution_count": 15,
   "metadata": {},
   "outputs": [
    {
     "data": {
      "text/plain": [
       "Date\n",
       "1987-05-11    0.000536\n",
       "1987-08-10    0.000536\n",
       "1987-11-17    0.000714\n",
       "1988-02-12    0.000714\n",
       "1988-05-16    0.000714\n",
       "                ...   \n",
       "2021-08-06    0.220000\n",
       "2021-11-05    0.220000\n",
       "2022-02-04    0.220000\n",
       "2022-05-06    0.230000\n",
       "2022-08-05    0.230000\n",
       "Name: Dividends, Length: 76, dtype: float64"
      ]
     },
     "execution_count": 15,
     "metadata": {},
     "output_type": "execute_result"
    }
   ],
   "source": [
    "base.TickerBase(\"aapl\").get_dividends()"
   ]
  },
  {
   "cell_type": "code",
   "execution_count": 77,
   "metadata": {},
   "outputs": [
    {
     "data": {
      "text/plain": [
       "{'quoteSummary': {'result': [{'incomeStatementHistoryQuarterly': {'incomeStatementHistory': [],\n",
       "     'maxAge': 86400},\n",
       "    'cashflowStatementHistory': {'cashflowStatements': [], 'maxAge': 86400},\n",
       "    'cashflowStatementHistoryQuarterly': {'cashflowStatements': [],\n",
       "     'maxAge': 86400},\n",
       "    'balanceSheetHistoryQuarterly': {'balanceSheetStatements': [],\n",
       "     'maxAge': 86400},\n",
       "    'balanceSheetHistory': {'balanceSheetStatements': [], 'maxAge': 86400},\n",
       "    'incomeStatementHistory': {'incomeStatementHistory': [],\n",
       "     'maxAge': 86400}}],\n",
       "  'error': None}}"
      ]
     },
     "execution_count": 77,
     "metadata": {},
     "output_type": "execute_result"
    }
   ],
   "source": [
    "from stock_data import data\n",
    "from yfinance import base\n",
    "data=data(\"AACIU\")\n",
    "#net_income,totalRevenue,gross profit\n",
    "info=data.fundamentals()['quoteSummary']['result'][0]['incomeStatementHistoryQuarterly']['incomeStatementHistory']\n",
    "info"
   ]
  },
  {
   "cell_type": "code",
   "execution_count": 17,
   "metadata": {},
   "outputs": [
    {
     "ename": "TypeError",
     "evalue": "list indices must be integers or slices, not str",
     "output_type": "error",
     "traceback": [
      "\u001b[0;31m---------------------------------------------------------------------------\u001b[0m",
      "\u001b[0;31mTypeError\u001b[0m                                 Traceback (most recent call last)",
      "\u001b[1;32m/home/leonelbenitez/Projects/oraculo/app/proof/d.ipynb Cell 15\u001b[0m in \u001b[0;36m<cell line: 1>\u001b[0;34m()\u001b[0m\n\u001b[0;32m----> <a href='vscode-notebook-cell:/home/leonelbenitez/Projects/oraculo/app/proof/d.ipynb#X20sZmlsZQ%3D%3D?line=0'>1</a>\u001b[0m net_income\u001b[39m=\u001b[39minfo[\u001b[39m'\u001b[39;49m\u001b[39mnetIncome\u001b[39;49m\u001b[39m'\u001b[39;49m]\n\u001b[1;32m      <a href='vscode-notebook-cell:/home/leonelbenitez/Projects/oraculo/app/proof/d.ipynb#X20sZmlsZQ%3D%3D?line=1'>2</a>\u001b[0m revenue\u001b[39m=\u001b[39minfo[\u001b[39m'\u001b[39m\u001b[39mtotalRevenue\u001b[39m\u001b[39m'\u001b[39m]\n\u001b[1;32m      <a href='vscode-notebook-cell:/home/leonelbenitez/Projects/oraculo/app/proof/d.ipynb#X20sZmlsZQ%3D%3D?line=2'>3</a>\u001b[0m profit\u001b[39m=\u001b[39minfo[\u001b[39m'\u001b[39m\u001b[39mgrossProfit\u001b[39m\u001b[39m'\u001b[39m]\n",
      "\u001b[0;31mTypeError\u001b[0m: list indices must be integers or slices, not str"
     ]
    }
   ],
   "source": [
    "net_income=info['netIncome']\n",
    "revenue=info['totalRevenue']\n",
    "profit=info['grossProfit']\n",
    "estadis=base.TickerBase('Aapl').stats()\n",
    "\n",
    "estadis\n",
    "    \n",
    "   \n",
    "info\n"
   ]
  },
  {
   "cell_type": "code",
   "execution_count": 97,
   "metadata": {},
   "outputs": [
    {
     "data": {
      "text/plain": [
       "<object at 0x7f2bd59fd550>"
      ]
     },
     "execution_count": 97,
     "metadata": {},
     "output_type": "execute_result"
    }
   ],
   "source": []
  },
  {
   "cell_type": "code",
   "execution_count": 218,
   "metadata": {},
   "outputs": [],
   "source": [
    "\n",
    "from stock_data import data\n",
    "from yfinance import base\n",
    "\n",
    "def cargar_data(estadis, fund):\n",
    "\n",
    "    \n",
    "    if estadis=={}:\n",
    "      pass\n",
    "    else:\n",
    "     estadis_info=estadis['defaultKeyStatistics']\n",
    "     fundamental=fund\n",
    "    \n",
    "     quotetype=estadis['price']['quoteType']\n",
    "     if quotetype=='ETF':\n",
    "        return {'response':'informacion de ETF no disponible'}\n",
    "     elif fundamental.fundamentals()['quoteSummary']['result'][0]['incomeStatementHistoryQuarterly']['incomeStatementHistory']==[]:\n",
    "          net_income_json=0\n",
    "          revenue_json=0\n",
    "          profit_json=0\n",
    "          deuda=0\n",
    "          ebit=0\n",
    "    #estadistica\n",
    "          revenue_accion=0\n",
    "          deuda_accion=0\n",
    "          dvdendo=0\n",
    "     else:\n",
    "      info=fundamental.fundamentals()['quoteSummary']['result'][0]['incomeStatementHistoryQuarterly']['incomeStatementHistory'][0]       \n",
    "    #finanza\n",
    "      net_income_json=info['netIncome']['raw']\n",
    "      revenue_json=info['totalRevenue']['raw']\n",
    "      profit_json=info['grossProfit']['raw']\n",
    "      deuda=estadis['financialData']['totalDebt']\n",
    "      ebit=info['ebit']['raw']\n",
    "    #estadistica\n",
    "      if estadis_info['sharesOutstanding'] != None:\n",
    "        revenue_accion=revenue_json/estadis_info['sharesOutstanding']\n",
    "        deuda_accion=deuda/estadis_info['sharesOutstanding']\n",
    "        dvdendo=estadis['earnings']\n",
    "      else:\n",
    "        revenue_accion=0\n",
    "        deuda_accion=0\n",
    "        dvdendo=0\n",
    "      if fundamental.fundamentals()['quoteSummary']['result'][0]['incomeStatementHistoryQuarterly']['incomeStatementHistory'][1]['totalRevenue']['raw']==0 or dvdendo==None :\n",
    "         crecimineto_=0\n",
    "         dvdendo=0\n",
    "      else:\n",
    "        dvdendo=estadis['earnings']\n",
    "        por=fundamental.fundamentals()['quoteSummary']['result'][0]['incomeStatementHistoryQuarterly']['incomeStatementHistory'][0]['totalRevenue']['raw']*100/fundamental.fundamentals()['quoteSummary']['result'][0]['incomeStatementHistoryQuarterly']['incomeStatementHistory'][1]['totalRevenue']['raw']\n",
    "        crecimineto_=por-100\n",
    "        dvdendo=dvdendo['earningsChart'] if type(dvdendo['earningsChart']) is int else 0\n",
    "     \n",
    "      fundamental={'finanzas':{\n",
    "            'netincome':net_income_json,\n",
    "            'revenue': revenue_json if type(revenue_json) is int else 0,\n",
    "            'profit':profit_json,\n",
    "            'deuda':deuda,\n",
    "            'ebit':ebit,\n",
    "           },\n",
    "           'estadistica':{\n",
    "            'ganancias/accion':revenue_accion,\n",
    "            'deuda/accion':deuda_accion,\n",
    "            'dividendo':dvdendo,\n",
    "            'crecimiento':round(crecimineto_,2)\n",
    "           }\n",
    "     }\n",
    "     \n",
    "\n",
    "\n",
    "     \n",
    "     return fundamental\n",
    "    "
   ]
  },
  {
   "cell_type": "code",
   "execution_count": 215,
   "metadata": {},
   "outputs": [
    {
     "ename": "RuntimeError",
     "evalue": "This event loop is already running",
     "output_type": "error",
     "traceback": [
      "\u001b[0;31m---------------------------------------------------------------------------\u001b[0m",
      "\u001b[0;31mRuntimeError\u001b[0m                              Traceback (most recent call last)",
      "\u001b[1;32m/home/leonelbenitez/Projects/oraculo/app/proof/d.ipynb Cell 18\u001b[0m in \u001b[0;36m<cell line: 8>\u001b[0;34m()\u001b[0m\n\u001b[1;32m      <a href='vscode-notebook-cell:/home/leonelbenitez/Projects/oraculo/app/proof/d.ipynb#X22sZmlsZQ%3D%3D?line=5'>6</a>\u001b[0m     \u001b[39mreturn\u001b[39;00m \u001b[39mprint\u001b[39m(r, h)\n\u001b[1;32m      <a href='vscode-notebook-cell:/home/leonelbenitez/Projects/oraculo/app/proof/d.ipynb#X22sZmlsZQ%3D%3D?line=6'>7</a>\u001b[0m loop \u001b[39m=\u001b[39m asyncio\u001b[39m.\u001b[39mget_event_loop()\n\u001b[0;32m----> <a href='vscode-notebook-cell:/home/leonelbenitez/Projects/oraculo/app/proof/d.ipynb#X22sZmlsZQ%3D%3D?line=7'>8</a>\u001b[0m loop\u001b[39m.\u001b[39;49mrun_until_complete(rt())\n\u001b[1;32m      <a href='vscode-notebook-cell:/home/leonelbenitez/Projects/oraculo/app/proof/d.ipynb#X22sZmlsZQ%3D%3D?line=8'>9</a>\u001b[0m loop\u001b[39m.\u001b[39mclose()\n",
      "File \u001b[0;32m/usr/lib64/python3.10/asyncio/base_events.py:622\u001b[0m, in \u001b[0;36mBaseEventLoop.run_until_complete\u001b[0;34m(self, future)\u001b[0m\n\u001b[1;32m    611\u001b[0m \u001b[39m\"\"\"Run until the Future is done.\u001b[39;00m\n\u001b[1;32m    612\u001b[0m \n\u001b[1;32m    613\u001b[0m \u001b[39mIf the argument is a coroutine, it is wrapped in a Task.\u001b[39;00m\n\u001b[0;32m   (...)\u001b[0m\n\u001b[1;32m    619\u001b[0m \u001b[39mReturn the Future's result, or raise its exception.\u001b[39;00m\n\u001b[1;32m    620\u001b[0m \u001b[39m\"\"\"\u001b[39;00m\n\u001b[1;32m    621\u001b[0m \u001b[39mself\u001b[39m\u001b[39m.\u001b[39m_check_closed()\n\u001b[0;32m--> 622\u001b[0m \u001b[39mself\u001b[39;49m\u001b[39m.\u001b[39;49m_check_running()\n\u001b[1;32m    624\u001b[0m new_task \u001b[39m=\u001b[39m \u001b[39mnot\u001b[39;00m futures\u001b[39m.\u001b[39misfuture(future)\n\u001b[1;32m    625\u001b[0m future \u001b[39m=\u001b[39m tasks\u001b[39m.\u001b[39mensure_future(future, loop\u001b[39m=\u001b[39m\u001b[39mself\u001b[39m)\n",
      "File \u001b[0;32m/usr/lib64/python3.10/asyncio/base_events.py:582\u001b[0m, in \u001b[0;36mBaseEventLoop._check_running\u001b[0;34m(self)\u001b[0m\n\u001b[1;32m    580\u001b[0m \u001b[39mdef\u001b[39;00m \u001b[39m_check_running\u001b[39m(\u001b[39mself\u001b[39m):\n\u001b[1;32m    581\u001b[0m     \u001b[39mif\u001b[39;00m \u001b[39mself\u001b[39m\u001b[39m.\u001b[39mis_running():\n\u001b[0;32m--> 582\u001b[0m         \u001b[39mraise\u001b[39;00m \u001b[39mRuntimeError\u001b[39;00m(\u001b[39m'\u001b[39m\u001b[39mThis event loop is already running\u001b[39m\u001b[39m'\u001b[39m)\n\u001b[1;32m    583\u001b[0m     \u001b[39mif\u001b[39;00m events\u001b[39m.\u001b[39m_get_running_loop() \u001b[39mis\u001b[39;00m \u001b[39mnot\u001b[39;00m \u001b[39mNone\u001b[39;00m:\n\u001b[1;32m    584\u001b[0m         \u001b[39mraise\u001b[39;00m \u001b[39mRuntimeError\u001b[39;00m(\n\u001b[1;32m    585\u001b[0m             \u001b[39m'\u001b[39m\u001b[39mCannot run the event loop while another loop is running\u001b[39m\u001b[39m'\u001b[39m)\n",
      "\u001b[0;31mRuntimeError\u001b[0m: This event loop is already running"
     ]
    }
   ],
   "source": [
    "async def rt():\n",
    "    qs = asyncio.Queue()\n",
    "    qs.put('AAPL')\n",
    "    r = await cargar_data(qs)\n",
    "    h = await cargar_data(qs)\n",
    "    return print(r, h)\n",
    "loop = asyncio.get_event_loop()\n",
    "loop.run_until_complete(rt())\n",
    "loop.close()"
   ]
  },
  {
   "cell_type": "code",
   "execution_count": 4,
   "metadata": {},
   "outputs": [],
   "source": [
    "\n",
    "\n",
    "import pandas as pd\n",
    "import pandas_datareader as pdr\n",
    "import numpy as np\n",
    "from redis.commands.json.path import Path\n",
    "import redis\n",
    "import os\n",
    "\n",
    "server=redis.Redis(host='localhost', port=6379, db=0)\n",
    "\n",
    "simbolos=pdr.get_nasdaq_symbols()['Nasdaq Traded'].index"
   ]
  },
  {
   "cell_type": "code",
   "execution_count": 5,
   "metadata": {},
   "outputs": [
    {
     "data": {
      "text/plain": [
       "0"
      ]
     },
     "execution_count": 5,
     "metadata": {},
     "output_type": "execute_result"
    }
   ],
   "source": [
    "os.system(\"podman start redis-stack\")"
   ]
  },
  {
   "cell_type": "code",
   "execution_count": 212,
   "metadata": {},
   "outputs": [
    {
     "data": {
      "text/html": [
       "<div>\n",
       "<style scoped>\n",
       "    .dataframe tbody tr th:only-of-type {\n",
       "        vertical-align: middle;\n",
       "    }\n",
       "\n",
       "    .dataframe tbody tr th {\n",
       "        vertical-align: top;\n",
       "    }\n",
       "\n",
       "    .dataframe thead th {\n",
       "        text-align: right;\n",
       "    }\n",
       "</style>\n",
       "<table border=\"1\" class=\"dataframe\">\n",
       "  <thead>\n",
       "    <tr style=\"text-align: right;\">\n",
       "      <th></th>\n",
       "      <th>Nasdaq Traded</th>\n",
       "      <th>Security Name</th>\n",
       "      <th>Listing Exchange</th>\n",
       "      <th>Market Category</th>\n",
       "      <th>ETF</th>\n",
       "      <th>Round Lot Size</th>\n",
       "      <th>Test Issue</th>\n",
       "      <th>Financial Status</th>\n",
       "      <th>CQS Symbol</th>\n",
       "      <th>NASDAQ Symbol</th>\n",
       "      <th>NextShares</th>\n",
       "    </tr>\n",
       "    <tr>\n",
       "      <th>Symbol</th>\n",
       "      <th></th>\n",
       "      <th></th>\n",
       "      <th></th>\n",
       "      <th></th>\n",
       "      <th></th>\n",
       "      <th></th>\n",
       "      <th></th>\n",
       "      <th></th>\n",
       "      <th></th>\n",
       "      <th></th>\n",
       "      <th></th>\n",
       "    </tr>\n",
       "  </thead>\n",
       "  <tbody>\n",
       "    <tr>\n",
       "      <th>AAL</th>\n",
       "      <td>True</td>\n",
       "      <td>American Airlines Group, Inc. - Common Stock</td>\n",
       "      <td>Q</td>\n",
       "      <td>Q</td>\n",
       "      <td>False</td>\n",
       "      <td>100.0</td>\n",
       "      <td>False</td>\n",
       "      <td>N</td>\n",
       "      <td>NaN</td>\n",
       "      <td>AAL</td>\n",
       "      <td>False</td>\n",
       "    </tr>\n",
       "    <tr>\n",
       "      <th>AAON</th>\n",
       "      <td>True</td>\n",
       "      <td>AAON, Inc. - Common Stock</td>\n",
       "      <td>Q</td>\n",
       "      <td>Q</td>\n",
       "      <td>False</td>\n",
       "      <td>100.0</td>\n",
       "      <td>False</td>\n",
       "      <td>N</td>\n",
       "      <td>NaN</td>\n",
       "      <td>AAON</td>\n",
       "      <td>False</td>\n",
       "    </tr>\n",
       "    <tr>\n",
       "      <th>AAPL</th>\n",
       "      <td>True</td>\n",
       "      <td>Apple Inc. - Common Stock</td>\n",
       "      <td>Q</td>\n",
       "      <td>Q</td>\n",
       "      <td>False</td>\n",
       "      <td>100.0</td>\n",
       "      <td>False</td>\n",
       "      <td>N</td>\n",
       "      <td>NaN</td>\n",
       "      <td>AAPL</td>\n",
       "      <td>False</td>\n",
       "    </tr>\n",
       "    <tr>\n",
       "      <th>AAWW</th>\n",
       "      <td>True</td>\n",
       "      <td>Atlas Air Worldwide Holdings - Common Stock</td>\n",
       "      <td>Q</td>\n",
       "      <td>Q</td>\n",
       "      <td>False</td>\n",
       "      <td>100.0</td>\n",
       "      <td>False</td>\n",
       "      <td>N</td>\n",
       "      <td>NaN</td>\n",
       "      <td>AAWW</td>\n",
       "      <td>False</td>\n",
       "    </tr>\n",
       "    <tr>\n",
       "      <th>ABCB</th>\n",
       "      <td>True</td>\n",
       "      <td>Ameris Bancorp - Common Stock</td>\n",
       "      <td>Q</td>\n",
       "      <td>Q</td>\n",
       "      <td>False</td>\n",
       "      <td>100.0</td>\n",
       "      <td>False</td>\n",
       "      <td>N</td>\n",
       "      <td>NaN</td>\n",
       "      <td>ABCB</td>\n",
       "      <td>False</td>\n",
       "    </tr>\n",
       "    <tr>\n",
       "      <th>...</th>\n",
       "      <td>...</td>\n",
       "      <td>...</td>\n",
       "      <td>...</td>\n",
       "      <td>...</td>\n",
       "      <td>...</td>\n",
       "      <td>...</td>\n",
       "      <td>...</td>\n",
       "      <td>...</td>\n",
       "      <td>...</td>\n",
       "      <td>...</td>\n",
       "      <td>...</td>\n",
       "    </tr>\n",
       "    <tr>\n",
       "      <th>ZION</th>\n",
       "      <td>True</td>\n",
       "      <td>Zions Bancorporation N.A. - Common Stock</td>\n",
       "      <td>Q</td>\n",
       "      <td>Q</td>\n",
       "      <td>False</td>\n",
       "      <td>100.0</td>\n",
       "      <td>False</td>\n",
       "      <td>N</td>\n",
       "      <td>NaN</td>\n",
       "      <td>ZION</td>\n",
       "      <td>False</td>\n",
       "    </tr>\n",
       "    <tr>\n",
       "      <th>ZM</th>\n",
       "      <td>True</td>\n",
       "      <td>Zoom Video Communications, Inc. - Class A Comm...</td>\n",
       "      <td>Q</td>\n",
       "      <td>Q</td>\n",
       "      <td>False</td>\n",
       "      <td>100.0</td>\n",
       "      <td>False</td>\n",
       "      <td>N</td>\n",
       "      <td>NaN</td>\n",
       "      <td>ZM</td>\n",
       "      <td>False</td>\n",
       "    </tr>\n",
       "    <tr>\n",
       "      <th>ZS</th>\n",
       "      <td>True</td>\n",
       "      <td>Zscaler, Inc. - Common Stock</td>\n",
       "      <td>Q</td>\n",
       "      <td>Q</td>\n",
       "      <td>False</td>\n",
       "      <td>100.0</td>\n",
       "      <td>False</td>\n",
       "      <td>N</td>\n",
       "      <td>NaN</td>\n",
       "      <td>ZS</td>\n",
       "      <td>False</td>\n",
       "    </tr>\n",
       "    <tr>\n",
       "      <th>ZUMZ</th>\n",
       "      <td>True</td>\n",
       "      <td>Zumiez Inc. - Common Stock</td>\n",
       "      <td>Q</td>\n",
       "      <td>Q</td>\n",
       "      <td>False</td>\n",
       "      <td>100.0</td>\n",
       "      <td>False</td>\n",
       "      <td>N</td>\n",
       "      <td>NaN</td>\n",
       "      <td>ZUMZ</td>\n",
       "      <td>False</td>\n",
       "    </tr>\n",
       "    <tr>\n",
       "      <th>ZYXI</th>\n",
       "      <td>True</td>\n",
       "      <td>Zynex, Inc. - Common Stock</td>\n",
       "      <td>Q</td>\n",
       "      <td>Q</td>\n",
       "      <td>False</td>\n",
       "      <td>100.0</td>\n",
       "      <td>False</td>\n",
       "      <td>N</td>\n",
       "      <td>NaN</td>\n",
       "      <td>ZYXI</td>\n",
       "      <td>False</td>\n",
       "    </tr>\n",
       "  </tbody>\n",
       "</table>\n",
       "<p>1703 rows × 11 columns</p>\n",
       "</div>"
      ],
      "text/plain": [
       "        Nasdaq Traded                                      Security Name  \\\n",
       "Symbol                                                                     \n",
       "AAL              True       American Airlines Group, Inc. - Common Stock   \n",
       "AAON             True                          AAON, Inc. - Common Stock   \n",
       "AAPL             True                          Apple Inc. - Common Stock   \n",
       "AAWW             True        Atlas Air Worldwide Holdings - Common Stock   \n",
       "ABCB             True                      Ameris Bancorp - Common Stock   \n",
       "...               ...                                                ...   \n",
       "ZION             True           Zions Bancorporation N.A. - Common Stock   \n",
       "ZM               True  Zoom Video Communications, Inc. - Class A Comm...   \n",
       "ZS               True                       Zscaler, Inc. - Common Stock   \n",
       "ZUMZ             True                         Zumiez Inc. - Common Stock   \n",
       "ZYXI             True                         Zynex, Inc. - Common Stock   \n",
       "\n",
       "       Listing Exchange Market Category    ETF  Round Lot Size  Test Issue  \\\n",
       "Symbol                                                                       \n",
       "AAL                   Q               Q  False           100.0       False   \n",
       "AAON                  Q               Q  False           100.0       False   \n",
       "AAPL                  Q               Q  False           100.0       False   \n",
       "AAWW                  Q               Q  False           100.0       False   \n",
       "ABCB                  Q               Q  False           100.0       False   \n",
       "...                 ...             ...    ...             ...         ...   \n",
       "ZION                  Q               Q  False           100.0       False   \n",
       "ZM                    Q               Q  False           100.0       False   \n",
       "ZS                    Q               Q  False           100.0       False   \n",
       "ZUMZ                  Q               Q  False           100.0       False   \n",
       "ZYXI                  Q               Q  False           100.0       False   \n",
       "\n",
       "       Financial Status CQS Symbol NASDAQ Symbol  NextShares  \n",
       "Symbol                                                        \n",
       "AAL                   N        NaN           AAL       False  \n",
       "AAON                  N        NaN          AAON       False  \n",
       "AAPL                  N        NaN          AAPL       False  \n",
       "AAWW                  N        NaN          AAWW       False  \n",
       "ABCB                  N        NaN          ABCB       False  \n",
       "...                 ...        ...           ...         ...  \n",
       "ZION                  N        NaN          ZION       False  \n",
       "ZM                    N        NaN            ZM       False  \n",
       "ZS                    N        NaN            ZS       False  \n",
       "ZUMZ                  N        NaN          ZUMZ       False  \n",
       "ZYXI                  N        NaN          ZYXI       False  \n",
       "\n",
       "[1703 rows x 11 columns]"
      ]
     },
     "execution_count": 212,
     "metadata": {},
     "output_type": "execute_result"
    }
   ],
   "source": [
    "simbolos = pdr.get_nasdaq_symbols()\n",
    "symb = simbolos.loc[(simbolos['ETF'] == False) & (simbolos['Nasdaq Traded'] == True) & (\n",
    "    simbolos['Financial Status'] == 'N') & (simbolos['Test Issue'] == False) & (simbolos['Market Category'].str.contains('Q' , regex = False))]\n",
    "symb\n"
   ]
  },
  {
   "cell_type": "code",
   "execution_count": 157,
   "metadata": {},
   "outputs": [
    {
     "name": "stdout",
     "output_type": "stream",
     "text": [
      "{'finanzas': {'netincome': 20721000000, 'revenue': 90146000000, 'profit': 38095000000, 'deuda': 132480000000, 'ebit': 24894000000}, 'estadistica': {'ganancias/accion': 5.666672918576033, 'deuda/accion': 8.327832940484912, 'dividendo': {'quarterly': [{'date': '4Q2021', 'actual': 2.1, 'estimate': 1.89}, {'date': '1Q2022', 'actual': 1.52, 'estimate': 1.43}, {'date': '2Q2022', 'actual': 1.2, 'estimate': 1.16}, {'date': '3Q2022', 'actual': 1.29, 'estimate': 1.27}], 'currentQuarterEstimate': 2.08, 'currentQuarterEstimateDate': '4Q', 'currentQuarterEstimateYear': 2022, 'earningsDate': [1674644340, 1675080000]}, 'crecimiento': 8.66}}\n"
     ]
    }
   ],
   "source": [
    "import json\n",
    "print(cargar_data('AAPL'))"
   ]
  },
  {
   "cell_type": "code",
   "execution_count": null,
   "metadata": {},
   "outputs": [],
   "source": []
  },
  {
   "cell_type": "code",
   "execution_count": 229,
   "metadata": {},
   "outputs": [],
   "source": [
    "\n",
    "import json\n",
    "import asyncio\n",
    "simbolo=symb['NASDAQ Symbol'].head(3)\n",
    "async def server_data():\n",
    "    for symbol in simbolo:\n",
    "        estadis=base.TickerBase(symbol).stats()\n",
    "        fund = data(symbol)\n",
    "        dat=cargar_data(estadis, fund)\n",
    "        print(symbol)\n",
    "        #data_error=str(data)\n",
    "        #server.hset('data entreno',symbol,data)\n",
    "        if type(dat) == dict:\n",
    "          dat = json.dumps(dat)\n",
    "          server.hset('data entreno',symbol,dat)\n",
    "        else:\n",
    "          pass\n",
    "\n",
    "        #server.hset('data entreno',simbolos[i],str(data))\n",
    "        #if data_error==\"{'response':'informacion de ETF no disponible'}\":\n",
    "          # pass\n",
    "        #else:\n",
    "           #server.hset('data entreno',symbol,str(data))\n",
    "        \n",
    "\n"
   ]
  },
  {
   "cell_type": "code",
   "execution_count": 230,
   "metadata": {},
   "outputs": [
    {
     "name": "stdout",
     "output_type": "stream",
     "text": [
      "AAL\n",
      "AAON\n",
      "AAPL\n"
     ]
    }
   ],
   "source": [
    "server_data()"
   ]
  },
  {
   "cell_type": "code",
   "execution_count": null,
   "metadata": {},
   "outputs": [],
   "source": [
    "import json\n",
    "\n",
    "data = json.loads(data)"
   ]
  }
 ],
 "metadata": {
  "kernelspec": {
   "display_name": "Python 3.10.6 64-bit",
   "language": "python",
   "name": "python3"
  },
  "language_info": {
   "codemirror_mode": {
    "name": "ipython",
    "version": 3
   },
   "file_extension": ".py",
   "mimetype": "text/x-python",
   "name": "python",
   "nbconvert_exporter": "python",
   "pygments_lexer": "ipython3",
   "version": "3.11.2"
  },
  "orig_nbformat": 4,
  "vscode": {
   "interpreter": {
    "hash": "e7370f93d1d0cde622a1f8e1c04877d8463912d04d973331ad4851f04de6915a"
   }
  }
 },
 "nbformat": 4,
 "nbformat_minor": 2
}
