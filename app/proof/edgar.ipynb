{
 "cells": [
  {
   "cell_type": "code",
   "execution_count": 5,
   "metadata": {},
   "outputs": [
    {
     "ename": "ModuleNotFoundError",
     "evalue": "No module named 'edgar.stock'; 'edgar' is not a package",
     "output_type": "error",
     "traceback": [
      "\u001b[0;31m---------------------------------------------------------------------------\u001b[0m",
      "\u001b[0;31mModuleNotFoundError\u001b[0m                       Traceback (most recent call last)",
      "Cell \u001b[0;32mIn[5], line 1\u001b[0m\n\u001b[0;32m----> 1\u001b[0m \u001b[39mfrom\u001b[39;00m \u001b[39medgar\u001b[39;00m\u001b[39m.\u001b[39;00m\u001b[39mstock\u001b[39;00m \u001b[39mimport\u001b[39;00m Stock\n",
      "File \u001b[0;32m~/projects/oraculo/app/proof/edgar.py:1\u001b[0m\n\u001b[0;32m----> 1\u001b[0m \u001b[39mfrom\u001b[39;00m \u001b[39medgar\u001b[39;00m\u001b[39m.\u001b[39;00m\u001b[39mstock\u001b[39;00m \u001b[39mimport\u001b[39;00m Stock\n\u001b[1;32m      2\u001b[0m stock \u001b[39m=\u001b[39m Stock(\u001b[39m'\u001b[39m\u001b[39mAAPL\u001b[39m\u001b[39m'\u001b[39m)\n\u001b[1;32m      4\u001b[0m period \u001b[39m=\u001b[39m \u001b[39m'\u001b[39m\u001b[39mquarterly\u001b[39m\u001b[39m'\u001b[39m \u001b[39m# or 'annual', which is the default\u001b[39;00m\n",
      "\u001b[0;31mModuleNotFoundError\u001b[0m: No module named 'edgar.stock'; 'edgar' is not a package"
     ]
    }
   ],
   "source": [
    "from edgar.stock import Stock"
   ]
  },
  {
   "cell_type": "code",
   "execution_count": null,
   "metadata": {},
   "outputs": [],
   "source": []
  },
  {
   "cell_type": "code",
   "execution_count": null,
   "metadata": {},
   "outputs": [],
   "source": []
  }
 ],
 "metadata": {
  "kernelspec": {
   "display_name": ".env",
   "language": "python",
   "name": "python3"
  },
  "language_info": {
   "codemirror_mode": {
    "name": "ipython",
    "version": 3
   },
   "file_extension": ".py",
   "mimetype": "text/x-python",
   "name": "python",
   "nbconvert_exporter": "python",
   "pygments_lexer": "ipython3",
   "version": "3.11.2"
  },
  "orig_nbformat": 4
 },
 "nbformat": 4,
 "nbformat_minor": 2
}
