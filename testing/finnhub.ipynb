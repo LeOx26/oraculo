{
 "cells": [
  {
   "cell_type": "code",
   "execution_count": 335,
   "metadata": {},
   "outputs": [
    {
     "data": {
      "text/plain": [
       "7.0"
      ]
     },
     "execution_count": 335,
     "metadata": {},
     "output_type": "execute_result"
    }
   ],
   "source": [
    "import finnhub\n",
    "import time\n",
    "63/9"
   ]
  },
  {
   "cell_type": "code",
   "execution_count": 90,
   "metadata": {},
   "outputs": [],
   "source": [
    "fnhb = finnhub.Client(api_key='c91rjeaad3if9n5lpj1g')"
   ]
  },
  {
   "cell_type": "code",
   "execution_count": 91,
   "metadata": {},
   "outputs": [],
   "source": [
    "time_end = int(time.time())\n",
    "time_start = int((time_end) - 2592000*15)"
   ]
  },
  {
   "cell_type": "code",
   "execution_count": 92,
   "metadata": {},
   "outputs": [],
   "source": [
    "import pandas as pd\n",
    "fnhb_data = fnhb.stock_candles('NNDM', '1',time_start, time_end)\n",
    "data = pd.DataFrame.from_dict(fnhb_data)"
   ]
  },
  {
   "cell_type": "code",
   "execution_count": 93,
   "metadata": {},
   "outputs": [
    {
     "data": {
      "text/html": [
       "<div>\n",
       "<style scoped>\n",
       "    .dataframe tbody tr th:only-of-type {\n",
       "        vertical-align: middle;\n",
       "    }\n",
       "\n",
       "    .dataframe tbody tr th {\n",
       "        vertical-align: top;\n",
       "    }\n",
       "\n",
       "    .dataframe thead th {\n",
       "        text-align: right;\n",
       "    }\n",
       "</style>\n",
       "<table border=\"1\" class=\"dataframe\">\n",
       "  <thead>\n",
       "    <tr style=\"text-align: right;\">\n",
       "      <th></th>\n",
       "      <th>c</th>\n",
       "      <th>h</th>\n",
       "      <th>l</th>\n",
       "      <th>o</th>\n",
       "      <th>s</th>\n",
       "      <th>t</th>\n",
       "      <th>v</th>\n",
       "    </tr>\n",
       "  </thead>\n",
       "  <tbody>\n",
       "    <tr>\n",
       "      <th>7450</th>\n",
       "      <td>3.50</td>\n",
       "      <td>3.50</td>\n",
       "      <td>3.50</td>\n",
       "      <td>3.50</td>\n",
       "      <td>ok</td>\n",
       "      <td>1648853880</td>\n",
       "      <td>450</td>\n",
       "    </tr>\n",
       "    <tr>\n",
       "      <th>7451</th>\n",
       "      <td>3.50</td>\n",
       "      <td>3.50</td>\n",
       "      <td>3.50</td>\n",
       "      <td>3.50</td>\n",
       "      <td>ok</td>\n",
       "      <td>1648855800</td>\n",
       "      <td>135</td>\n",
       "    </tr>\n",
       "    <tr>\n",
       "      <th>7452</th>\n",
       "      <td>3.50</td>\n",
       "      <td>3.50</td>\n",
       "      <td>3.50</td>\n",
       "      <td>3.50</td>\n",
       "      <td>ok</td>\n",
       "      <td>1648856340</td>\n",
       "      <td>90</td>\n",
       "    </tr>\n",
       "    <tr>\n",
       "      <th>7453</th>\n",
       "      <td>3.48</td>\n",
       "      <td>3.48</td>\n",
       "      <td>3.48</td>\n",
       "      <td>3.48</td>\n",
       "      <td>ok</td>\n",
       "      <td>1648857180</td>\n",
       "      <td>232</td>\n",
       "    </tr>\n",
       "    <tr>\n",
       "      <th>7454</th>\n",
       "      <td>3.50</td>\n",
       "      <td>3.50</td>\n",
       "      <td>3.50</td>\n",
       "      <td>3.50</td>\n",
       "      <td>ok</td>\n",
       "      <td>1648857360</td>\n",
       "      <td>900</td>\n",
       "    </tr>\n",
       "  </tbody>\n",
       "</table>\n",
       "</div>"
      ],
      "text/plain": [
       "         c     h     l     o   s           t    v\n",
       "7450  3.50  3.50  3.50  3.50  ok  1648853880  450\n",
       "7451  3.50  3.50  3.50  3.50  ok  1648855800  135\n",
       "7452  3.50  3.50  3.50  3.50  ok  1648856340   90\n",
       "7453  3.48  3.48  3.48  3.48  ok  1648857180  232\n",
       "7454  3.50  3.50  3.50  3.50  ok  1648857360  900"
      ]
     },
     "execution_count": 93,
     "metadata": {},
     "output_type": "execute_result"
    }
   ],
   "source": [
    "data.tail()"
   ]
  },
  {
   "cell_type": "code",
   "execution_count": 94,
   "metadata": {},
   "outputs": [
    {
     "data": {
      "text/plain": [
       "['c', 'h', 'l', 'o', 's', 't', 'v']"
      ]
     },
     "execution_count": 94,
     "metadata": {},
     "output_type": "execute_result"
    }
   ],
   "source": [
    "list(data)"
   ]
  },
  {
   "cell_type": "code",
   "execution_count": 95,
   "metadata": {},
   "outputs": [
    {
     "data": {
      "text/plain": [
       "['NNDM', 'CLAB.TA', 'OTIVF']"
      ]
     },
     "execution_count": 95,
     "metadata": {},
     "output_type": "execute_result"
    }
   ],
   "source": [
    "fnhb.company_peers('NNDM')"
   ]
  },
  {
   "cell_type": "code",
   "execution_count": 167,
   "metadata": {},
   "outputs": [
    {
     "data": {
      "text/plain": [
       "'OZSC'"
      ]
     },
     "execution_count": 167,
     "metadata": {},
     "output_type": "execute_result"
    }
   ],
   "source": [
    "portafolio[5]['contractDesc']"
   ]
  },
  {
   "cell_type": "code",
   "execution_count": 300,
   "metadata": {},
   "outputs": [
    {
     "name": "stderr",
     "output_type": "stream",
     "text": [
      "/home/leox26/python3/oraculo/lib/python3.8/site-packages/urllib3/connectionpool.py:1043: InsecureRequestWarning: Unverified HTTPS request is being made to host 'localhost'. Adding certificate verification is strongly advised. See: https://urllib3.readthedocs.io/en/1.26.x/advanced-usage.html#ssl-warnings\n",
      "  warnings.warn(\n"
     ]
    },
    {
     "ename": "AttributeError",
     "evalue": "module 'ibkrapi' has no attribute 'market_data'",
     "output_type": "error",
     "traceback": [
      "\u001b[0;31m---------------------------------------------------------------------------\u001b[0m",
      "\u001b[0;31mAttributeError\u001b[0m                            Traceback (most recent call last)",
      "\u001b[1;32m/home/leox26/Projects/oraculo/testing/finnhub.ipynb Cell 9'\u001b[0m in \u001b[0;36m<cell line: 3>\u001b[0;34m()\u001b[0m\n\u001b[1;32m      <a href='vscode-notebook-cell://wsl%2Bubuntu/home/leox26/Projects/oraculo/testing/finnhub.ipynb#ch0000013vscode-remote?line=0'>1</a>\u001b[0m \u001b[39mimport\u001b[39;00m \u001b[39mibkrapi\u001b[39;00m\n\u001b[1;32m      <a href='vscode-notebook-cell://wsl%2Bubuntu/home/leox26/Projects/oraculo/testing/finnhub.ipynb#ch0000013vscode-remote?line=1'>2</a>\u001b[0m pf \u001b[39m=\u001b[39m ibkrapi\u001b[39m.\u001b[39mobtener_portafolio()\n\u001b[0;32m----> <a href='vscode-notebook-cell://wsl%2Bubuntu/home/leox26/Projects/oraculo/testing/finnhub.ipynb#ch0000013vscode-remote?line=2'>3</a>\u001b[0m md \u001b[39m=\u001b[39m ibkrapi\u001b[39m.\u001b[39;49mmarket_data\u001b[39m.\u001b[39mmarket_data(\u001b[39m'\u001b[39m\u001b[39mAAPL\u001b[39m\u001b[39m'\u001b[39m,\u001b[39m'\u001b[39m\u001b[39m1y\u001b[39m\u001b[39m'\u001b[39m,\u001b[39m'\u001b[39m\u001b[39m15min\u001b[39m\u001b[39m'\u001b[39m)\n",
      "\u001b[0;31mAttributeError\u001b[0m: module 'ibkrapi' has no attribute 'market_data'"
     ]
    }
   ],
   "source": [
    "import ibkrapi\n",
    "pf = ibkrapi.obtener_portafolio()\n",
    "md = ibkrapi.market_data.market_data('AAPL','1y','15min')"
   ]
  },
  {
   "cell_type": "code",
   "execution_count": 290,
   "metadata": {},
   "outputs": [
    {
     "data": {
      "text/html": [
       "<div>\n",
       "<style scoped>\n",
       "    .dataframe tbody tr th:only-of-type {\n",
       "        vertical-align: middle;\n",
       "    }\n",
       "\n",
       "    .dataframe tbody tr th {\n",
       "        vertical-align: top;\n",
       "    }\n",
       "\n",
       "    .dataframe thead th {\n",
       "        text-align: right;\n",
       "    }\n",
       "</style>\n",
       "<table border=\"1\" class=\"dataframe\">\n",
       "  <thead>\n",
       "    <tr style=\"text-align: right;\">\n",
       "      <th></th>\n",
       "      <th>acctId</th>\n",
       "      <th>conid</th>\n",
       "      <th>contractDesc</th>\n",
       "      <th>position</th>\n",
       "      <th>mktPrice</th>\n",
       "      <th>mktValue</th>\n",
       "      <th>currency</th>\n",
       "      <th>avgCost</th>\n",
       "      <th>avgPrice</th>\n",
       "      <th>realizedPnl</th>\n",
       "      <th>...</th>\n",
       "      <th>exchs</th>\n",
       "      <th>expiry</th>\n",
       "      <th>putOrCall</th>\n",
       "      <th>multiplier</th>\n",
       "      <th>strike</th>\n",
       "      <th>exerciseStyle</th>\n",
       "      <th>conExchMap</th>\n",
       "      <th>assetClass</th>\n",
       "      <th>undConid</th>\n",
       "      <th>model</th>\n",
       "    </tr>\n",
       "  </thead>\n",
       "  <tbody>\n",
       "    <tr>\n",
       "      <th>0</th>\n",
       "      <td>U2794747</td>\n",
       "      <td>332794741</td>\n",
       "      <td>NIO</td>\n",
       "      <td>9.0</td>\n",
       "      <td>22.170000</td>\n",
       "      <td>199.53</td>\n",
       "      <td>USD</td>\n",
       "      <td>36.818222</td>\n",
       "      <td>36.818222</td>\n",
       "      <td>0.0</td>\n",
       "      <td>...</td>\n",
       "      <td>None</td>\n",
       "      <td>None</td>\n",
       "      <td>None</td>\n",
       "      <td>None</td>\n",
       "      <td>0.0</td>\n",
       "      <td>None</td>\n",
       "      <td>[]</td>\n",
       "      <td>STK</td>\n",
       "      <td>0</td>\n",
       "      <td></td>\n",
       "    </tr>\n",
       "    <tr>\n",
       "      <th>1</th>\n",
       "      <td>U2794747</td>\n",
       "      <td>450748357</td>\n",
       "      <td>NCTY</td>\n",
       "      <td>42.0</td>\n",
       "      <td>2.970000</td>\n",
       "      <td>124.74</td>\n",
       "      <td>USD</td>\n",
       "      <td>15.826702</td>\n",
       "      <td>15.826702</td>\n",
       "      <td>0.0</td>\n",
       "      <td>...</td>\n",
       "      <td>None</td>\n",
       "      <td>None</td>\n",
       "      <td>None</td>\n",
       "      <td>None</td>\n",
       "      <td>0.0</td>\n",
       "      <td>None</td>\n",
       "      <td>[]</td>\n",
       "      <td>STK</td>\n",
       "      <td>0</td>\n",
       "      <td></td>\n",
       "    </tr>\n",
       "    <tr>\n",
       "      <th>2</th>\n",
       "      <td>U2794747</td>\n",
       "      <td>499871458</td>\n",
       "      <td>ASOLUSD</td>\n",
       "      <td>10.0</td>\n",
       "      <td>81.658897</td>\n",
       "      <td>816.59</td>\n",
       "      <td>USD</td>\n",
       "      <td>108.048850</td>\n",
       "      <td>108.048850</td>\n",
       "      <td>0.0</td>\n",
       "      <td>...</td>\n",
       "      <td>None</td>\n",
       "      <td>None</td>\n",
       "      <td>None</td>\n",
       "      <td>None</td>\n",
       "      <td>0.0</td>\n",
       "      <td>None</td>\n",
       "      <td>[]</td>\n",
       "      <td>STK</td>\n",
       "      <td>0</td>\n",
       "      <td></td>\n",
       "    </tr>\n",
       "    <tr>\n",
       "      <th>3</th>\n",
       "      <td>U2794747</td>\n",
       "      <td>457599455</td>\n",
       "      <td>DLPN</td>\n",
       "      <td>100.0</td>\n",
       "      <td>6.140000</td>\n",
       "      <td>614.00</td>\n",
       "      <td>USD</td>\n",
       "      <td>14.088703</td>\n",
       "      <td>14.088703</td>\n",
       "      <td>0.0</td>\n",
       "      <td>...</td>\n",
       "      <td>None</td>\n",
       "      <td>None</td>\n",
       "      <td>None</td>\n",
       "      <td>None</td>\n",
       "      <td>0.0</td>\n",
       "      <td>None</td>\n",
       "      <td>[]</td>\n",
       "      <td>STK</td>\n",
       "      <td>0</td>\n",
       "      <td></td>\n",
       "    </tr>\n",
       "    <tr>\n",
       "      <th>4</th>\n",
       "      <td>U2794747</td>\n",
       "      <td>388550694</td>\n",
       "      <td>NNDM</td>\n",
       "      <td>248.0</td>\n",
       "      <td>3.460000</td>\n",
       "      <td>858.08</td>\n",
       "      <td>USD</td>\n",
       "      <td>8.239023</td>\n",
       "      <td>8.239023</td>\n",
       "      <td>0.0</td>\n",
       "      <td>...</td>\n",
       "      <td>None</td>\n",
       "      <td>None</td>\n",
       "      <td>None</td>\n",
       "      <td>None</td>\n",
       "      <td>0.0</td>\n",
       "      <td>None</td>\n",
       "      <td>[]</td>\n",
       "      <td>STK</td>\n",
       "      <td>0</td>\n",
       "      <td></td>\n",
       "    </tr>\n",
       "    <tr>\n",
       "      <th>5</th>\n",
       "      <td>U2794747</td>\n",
       "      <td>403243542</td>\n",
       "      <td>OZSC</td>\n",
       "      <td>16000.0</td>\n",
       "      <td>0.024864</td>\n",
       "      <td>397.83</td>\n",
       "      <td>USD</td>\n",
       "      <td>0.051205</td>\n",
       "      <td>0.051205</td>\n",
       "      <td>0.0</td>\n",
       "      <td>...</td>\n",
       "      <td>None</td>\n",
       "      <td>None</td>\n",
       "      <td>None</td>\n",
       "      <td>None</td>\n",
       "      <td>0.0</td>\n",
       "      <td>None</td>\n",
       "      <td>[]</td>\n",
       "      <td>STK</td>\n",
       "      <td>0</td>\n",
       "      <td></td>\n",
       "    </tr>\n",
       "  </tbody>\n",
       "</table>\n",
       "<p>6 rows × 21 columns</p>\n",
       "</div>"
      ],
      "text/plain": [
       "     acctId      conid contractDesc  position   mktPrice  mktValue currency  \\\n",
       "0  U2794747  332794741          NIO       9.0  22.170000    199.53      USD   \n",
       "1  U2794747  450748357         NCTY      42.0   2.970000    124.74      USD   \n",
       "2  U2794747  499871458      ASOLUSD      10.0  81.658897    816.59      USD   \n",
       "3  U2794747  457599455         DLPN     100.0   6.140000    614.00      USD   \n",
       "4  U2794747  388550694         NNDM     248.0   3.460000    858.08      USD   \n",
       "5  U2794747  403243542         OZSC   16000.0   0.024864    397.83      USD   \n",
       "\n",
       "      avgCost    avgPrice  realizedPnl  ...  exchs expiry putOrCall  \\\n",
       "0   36.818222   36.818222          0.0  ...   None   None      None   \n",
       "1   15.826702   15.826702          0.0  ...   None   None      None   \n",
       "2  108.048850  108.048850          0.0  ...   None   None      None   \n",
       "3   14.088703   14.088703          0.0  ...   None   None      None   \n",
       "4    8.239023    8.239023          0.0  ...   None   None      None   \n",
       "5    0.051205    0.051205          0.0  ...   None   None      None   \n",
       "\n",
       "  multiplier strike  exerciseStyle conExchMap assetClass undConid  model  \n",
       "0       None    0.0           None         []        STK        0         \n",
       "1       None    0.0           None         []        STK        0         \n",
       "2       None    0.0           None         []        STK        0         \n",
       "3       None    0.0           None         []        STK        0         \n",
       "4       None    0.0           None         []        STK        0         \n",
       "5       None    0.0           None         []        STK        0         \n",
       "\n",
       "[6 rows x 21 columns]"
      ]
     },
     "execution_count": 290,
     "metadata": {},
     "output_type": "execute_result"
    }
   ],
   "source": [
    "import pandas as pd\n",
    "pd.DataFrame(pf)"
   ]
  },
  {
   "cell_type": "code",
   "execution_count": 292,
   "metadata": {},
   "outputs": [
    {
     "ename": "AttributeError",
     "evalue": "module 'ibkrapi' has no attribute 'market_data'",
     "output_type": "error",
     "traceback": [
      "\u001b[0;31m---------------------------------------------------------------------------\u001b[0m",
      "\u001b[0;31mAttributeError\u001b[0m                            Traceback (most recent call last)",
      "\u001b[1;32m/home/leox26/Projects/oraculo/testing/finnhub.ipynb Cell 11'\u001b[0m in \u001b[0;36m<cell line: 1>\u001b[0;34m()\u001b[0m\n\u001b[0;32m----> <a href='vscode-notebook-cell://wsl%2Bubuntu/home/leox26/Projects/oraculo/testing/finnhub.ipynb#ch0000015vscode-remote?line=0'>1</a>\u001b[0m md \u001b[39m=\u001b[39m ibkrapi\u001b[39m.\u001b[39;49mmarket_data(\u001b[39m'\u001b[39m\u001b[39mAAPL\u001b[39m\u001b[39m'\u001b[39m,\u001b[39m'\u001b[39m\u001b[39m1y\u001b[39m\u001b[39m'\u001b[39m,\u001b[39m'\u001b[39m\u001b[39m15min\u001b[39m\u001b[39m'\u001b[39m)\n",
      "\u001b[0;31mAttributeError\u001b[0m: module 'ibkrapi' has no attribute 'market_data'"
     ]
    }
   ],
   "source": [
    "md = ibkrapi.market_data('AAPL','1y','15min')"
   ]
  },
  {
   "cell_type": "code",
   "execution_count": 252,
   "metadata": {},
   "outputs": [],
   "source": [
    "import requests\n",
    "def market_data(contractid, period, bar):\n",
    "    reqUrl = 'https://localhost:5000/v1/api/iserver/marketdata/history'\n",
    "    payload = {'conid':contractid,'period':period,'bar':bar}\n",
    "    response = requests.request(\"GET\", reqUrl, params=payload, verify=False )\n",
    "    response.encoding = 'utf-8'\n",
    "    return response.json()"
   ]
  },
  {
   "cell_type": "code",
   "execution_count": 287,
   "metadata": {},
   "outputs": [
    {
     "name": "stderr",
     "output_type": "stream",
     "text": [
      "/home/leox26/python3/oraculo/lib/python3.8/site-packages/urllib3/connectionpool.py:1043: InsecureRequestWarning: Unverified HTTPS request is being made to host 'localhost'. Adding certificate verification is strongly advised. See: https://urllib3.readthedocs.io/en/1.26.x/advanced-usage.html#ssl-warnings\n",
      "  warnings.warn(\n"
     ]
    },
    {
     "ename": "KeyError",
     "evalue": "'data'",
     "output_type": "error",
     "traceback": [
      "\u001b[0;31m---------------------------------------------------------------------------\u001b[0m",
      "\u001b[0;31mKeyError\u001b[0m                                  Traceback (most recent call last)",
      "\u001b[1;32m/home/leox26/Projects/oraculo/testing/finnhub.ipynb Cell 13'\u001b[0m in \u001b[0;36m<cell line: 1>\u001b[0;34m()\u001b[0m\n\u001b[0;32m----> <a href='vscode-notebook-cell://wsl%2Bubuntu/home/leox26/Projects/oraculo/testing/finnhub.ipynb#ch0000017vscode-remote?line=0'>1</a>\u001b[0m aapl \u001b[39m=\u001b[39m pd\u001b[39m.\u001b[39mDataFrame(market_data(\u001b[39m'\u001b[39;49m\u001b[39mAAPL\u001b[39;49m\u001b[39m'\u001b[39;49m,\u001b[39m'\u001b[39;49m\u001b[39m1y\u001b[39;49m\u001b[39m'\u001b[39;49m,\u001b[39m'\u001b[39;49m\u001b[39m15min\u001b[39;49m\u001b[39m'\u001b[39;49m))\n",
      "\u001b[1;32m/home/leox26/Projects/oraculo/testing/finnhub.ipynb Cell 12'\u001b[0m in \u001b[0;36mmarket_data\u001b[0;34m(contractid, period, bar)\u001b[0m\n\u001b[1;32m      <a href='vscode-notebook-cell://wsl%2Bubuntu/home/leox26/Projects/oraculo/testing/finnhub.ipynb#ch0000016vscode-remote?line=4'>5</a>\u001b[0m response \u001b[39m=\u001b[39m requests\u001b[39m.\u001b[39mrequest(\u001b[39m\"\u001b[39m\u001b[39mGET\u001b[39m\u001b[39m\"\u001b[39m, reqUrl, params\u001b[39m=\u001b[39mpayload, verify\u001b[39m=\u001b[39m\u001b[39mFalse\u001b[39;00m )\n\u001b[1;32m      <a href='vscode-notebook-cell://wsl%2Bubuntu/home/leox26/Projects/oraculo/testing/finnhub.ipynb#ch0000016vscode-remote?line=5'>6</a>\u001b[0m response\u001b[39m.\u001b[39mencoding \u001b[39m=\u001b[39m \u001b[39m'\u001b[39m\u001b[39mutf-8\u001b[39m\u001b[39m'\u001b[39m\n\u001b[0;32m----> <a href='vscode-notebook-cell://wsl%2Bubuntu/home/leox26/Projects/oraculo/testing/finnhub.ipynb#ch0000016vscode-remote?line=6'>7</a>\u001b[0m \u001b[39mreturn\u001b[39;00m response\u001b[39m.\u001b[39;49mjson()[\u001b[39m'\u001b[39;49m\u001b[39mdata\u001b[39;49m\u001b[39m'\u001b[39;49m]\n",
      "\u001b[0;31mKeyError\u001b[0m: 'data'"
     ]
    }
   ],
   "source": [
    "aapl = pd.DataFrame(market_data('AAPL','1y','15min'))"
   ]
  },
  {
   "cell_type": "code",
   "execution_count": 258,
   "metadata": {},
   "outputs": [
    {
     "data": {
      "text/html": [
       "<div>\n",
       "<style scoped>\n",
       "    .dataframe tbody tr th:only-of-type {\n",
       "        vertical-align: middle;\n",
       "    }\n",
       "\n",
       "    .dataframe tbody tr th {\n",
       "        vertical-align: top;\n",
       "    }\n",
       "\n",
       "    .dataframe thead th {\n",
       "        text-align: right;\n",
       "    }\n",
       "</style>\n",
       "<table border=\"1\" class=\"dataframe\">\n",
       "  <thead>\n",
       "    <tr style=\"text-align: right;\">\n",
       "      <th></th>\n",
       "      <th>o</th>\n",
       "      <th>c</th>\n",
       "      <th>h</th>\n",
       "      <th>l</th>\n",
       "      <th>v</th>\n",
       "      <th>t</th>\n",
       "    </tr>\n",
       "  </thead>\n",
       "  <tbody>\n",
       "    <tr>\n",
       "      <th>0</th>\n",
       "      <td>171.86</td>\n",
       "      <td>172.28</td>\n",
       "      <td>172.41</td>\n",
       "      <td>171.74</td>\n",
       "      <td>11580</td>\n",
       "      <td>1644256800000</td>\n",
       "    </tr>\n",
       "    <tr>\n",
       "      <th>1</th>\n",
       "      <td>172.28</td>\n",
       "      <td>172.56</td>\n",
       "      <td>172.63</td>\n",
       "      <td>172.07</td>\n",
       "      <td>9638</td>\n",
       "      <td>1644257700000</td>\n",
       "    </tr>\n",
       "    <tr>\n",
       "      <th>2</th>\n",
       "      <td>172.56</td>\n",
       "      <td>172.52</td>\n",
       "      <td>172.72</td>\n",
       "      <td>172.49</td>\n",
       "      <td>10046</td>\n",
       "      <td>1644258600000</td>\n",
       "    </tr>\n",
       "    <tr>\n",
       "      <th>3</th>\n",
       "      <td>172.52</td>\n",
       "      <td>172.61</td>\n",
       "      <td>172.70</td>\n",
       "      <td>172.15</td>\n",
       "      <td>9451</td>\n",
       "      <td>1644259500000</td>\n",
       "    </tr>\n",
       "    <tr>\n",
       "      <th>4</th>\n",
       "      <td>172.62</td>\n",
       "      <td>172.11</td>\n",
       "      <td>172.62</td>\n",
       "      <td>172.08</td>\n",
       "      <td>10813</td>\n",
       "      <td>1644260400000</td>\n",
       "    </tr>\n",
       "    <tr>\n",
       "      <th>...</th>\n",
       "      <td>...</td>\n",
       "      <td>...</td>\n",
       "      <td>...</td>\n",
       "      <td>...</td>\n",
       "      <td>...</td>\n",
       "      <td>...</td>\n",
       "    </tr>\n",
       "    <tr>\n",
       "      <th>995</th>\n",
       "      <td>173.59</td>\n",
       "      <td>173.20</td>\n",
       "      <td>173.74</td>\n",
       "      <td>173.16</td>\n",
       "      <td>13479</td>\n",
       "      <td>1648838700000</td>\n",
       "    </tr>\n",
       "    <tr>\n",
       "      <th>996</th>\n",
       "      <td>173.20</td>\n",
       "      <td>173.30</td>\n",
       "      <td>173.56</td>\n",
       "      <td>173.08</td>\n",
       "      <td>17439</td>\n",
       "      <td>1648839600000</td>\n",
       "    </tr>\n",
       "    <tr>\n",
       "      <th>997</th>\n",
       "      <td>173.31</td>\n",
       "      <td>173.03</td>\n",
       "      <td>173.46</td>\n",
       "      <td>172.88</td>\n",
       "      <td>16612</td>\n",
       "      <td>1648840500000</td>\n",
       "    </tr>\n",
       "    <tr>\n",
       "      <th>998</th>\n",
       "      <td>173.03</td>\n",
       "      <td>172.89</td>\n",
       "      <td>173.20</td>\n",
       "      <td>172.77</td>\n",
       "      <td>24319</td>\n",
       "      <td>1648841400000</td>\n",
       "    </tr>\n",
       "    <tr>\n",
       "      <th>999</th>\n",
       "      <td>172.88</td>\n",
       "      <td>174.26</td>\n",
       "      <td>174.65</td>\n",
       "      <td>172.77</td>\n",
       "      <td>65870</td>\n",
       "      <td>1648842300000</td>\n",
       "    </tr>\n",
       "  </tbody>\n",
       "</table>\n",
       "<p>1000 rows × 6 columns</p>\n",
       "</div>"
      ],
      "text/plain": [
       "          o       c       h       l      v              t\n",
       "0    171.86  172.28  172.41  171.74  11580  1644256800000\n",
       "1    172.28  172.56  172.63  172.07   9638  1644257700000\n",
       "2    172.56  172.52  172.72  172.49  10046  1644258600000\n",
       "3    172.52  172.61  172.70  172.15   9451  1644259500000\n",
       "4    172.62  172.11  172.62  172.08  10813  1644260400000\n",
       "..      ...     ...     ...     ...    ...            ...\n",
       "995  173.59  173.20  173.74  173.16  13479  1648838700000\n",
       "996  173.20  173.30  173.56  173.08  17439  1648839600000\n",
       "997  173.31  173.03  173.46  172.88  16612  1648840500000\n",
       "998  173.03  172.89  173.20  172.77  24319  1648841400000\n",
       "999  172.88  174.26  174.65  172.77  65870  1648842300000\n",
       "\n",
       "[1000 rows x 6 columns]"
      ]
     },
     "execution_count": 258,
     "metadata": {},
     "output_type": "execute_result"
    }
   ],
   "source": [
    "aapl"
   ]
  },
  {
   "cell_type": "code",
   "execution_count": 259,
   "metadata": {},
   "outputs": [],
   "source": [
    "def obtener_id(symbols):\n",
    "    reqUrl = 'https://localhost:5000/v1/api/trsrv/stocks'\n",
    "    payload = {'symbols':symbols}\n",
    "    response = requests.request(\"GET\", reqUrl, params=payload, verify=False )\n",
    "    response.encoding = 'utf-8'\n",
    "    return response.json()"
   ]
  },
  {
   "cell_type": "code",
   "execution_count": 279,
   "metadata": {},
   "outputs": [
    {
     "name": "stderr",
     "output_type": "stream",
     "text": [
      "/home/leox26/python3/oraculo/lib/python3.8/site-packages/urllib3/connectionpool.py:1043: InsecureRequestWarning: Unverified HTTPS request is being made to host 'localhost'. Adding certificate verification is strongly advised. See: https://urllib3.readthedocs.io/en/1.26.x/advanced-usage.html#ssl-warnings\n",
      "  warnings.warn(\n"
     ]
    },
    {
     "data": {
      "text/plain": [
       "{'AAPL': [{'name': 'APPLE INC',\n",
       "   'chineseName': '&#x82F9;&#x679C;&#x516C;&#x53F8;',\n",
       "   'assetClass': 'STK',\n",
       "   'contracts': [{'conid': 265598, 'exchange': 'NASDAQ', 'isUS': True},\n",
       "    {'conid': 38708077, 'exchange': 'MEXI', 'isUS': False},\n",
       "    {'conid': 273982664, 'exchange': 'EBS', 'isUS': False}]},\n",
       "  {'name': 'LS 1X AAPL',\n",
       "   'chineseName': None,\n",
       "   'assetClass': 'STK',\n",
       "   'contracts': [{'conid': 493546048, 'exchange': 'LSEETF', 'isUS': False}]},\n",
       "  {'name': 'APPLE INC-CDR',\n",
       "   'chineseName': '&#x82F9;&#x679C;&#x516C;&#x53F8;',\n",
       "   'assetClass': 'STK',\n",
       "   'contracts': [{'conid': 532640894, 'exchange': 'AEQLIT', 'isUS': False}]}]}"
      ]
     },
     "execution_count": 279,
     "metadata": {},
     "output_type": "execute_result"
    }
   ],
   "source": [
    "obtener_id('AAPL')"
   ]
  },
  {
   "cell_type": "code",
   "execution_count": 284,
   "metadata": {},
   "outputs": [
    {
     "name": "stderr",
     "output_type": "stream",
     "text": [
      "/home/leox26/python3/oraculo/lib/python3.8/site-packages/urllib3/connectionpool.py:1043: InsecureRequestWarning: Unverified HTTPS request is being made to host 'localhost'. Adding certificate verification is strongly advised. See: https://urllib3.readthedocs.io/en/1.26.x/advanced-usage.html#ssl-warnings\n",
      "  warnings.warn(\n"
     ]
    },
    {
     "data": {
      "text/plain": [
       "265598"
      ]
     },
     "execution_count": 284,
     "metadata": {},
     "output_type": "execute_result"
    }
   ],
   "source": [
    "def obtener_id(symbols):\n",
    "    reqUrl = 'https://localhost:5000/v1/api/iserver/secdef/search'\n",
    "    payload = {'symbol':symbols,'name':'false','secType':'STK'}\n",
    "    response = requests.request(\"GET\", reqUrl, params=payload, verify=False )\n",
    "    response.encoding = 'utf-8'\n",
    "    return response.json()[0]['conid']\n",
    "\n",
    "obtener_id('AAPL')"
   ]
  },
  {
   "cell_type": "code",
   "execution_count": 312,
   "metadata": {},
   "outputs": [
    {
     "name": "stderr",
     "output_type": "stream",
     "text": [
      "/home/leox26/python3/oraculo/lib/python3.8/site-packages/urllib3/connectionpool.py:1043: InsecureRequestWarning: Unverified HTTPS request is being made to host 'localhost'. Adding certificate verification is strongly advised. See: https://urllib3.readthedocs.io/en/1.26.x/advanced-usage.html#ssl-warnings\n",
      "  warnings.warn(\n",
      "/home/leox26/python3/oraculo/lib/python3.8/site-packages/urllib3/connectionpool.py:1043: InsecureRequestWarning: Unverified HTTPS request is being made to host 'localhost'. Adding certificate verification is strongly advised. See: https://urllib3.readthedocs.io/en/1.26.x/advanced-usage.html#ssl-warnings\n",
      "  warnings.warn(\n"
     ]
    },
    {
     "data": {
      "text/html": [
       "<div>\n",
       "<style scoped>\n",
       "    .dataframe tbody tr th:only-of-type {\n",
       "        vertical-align: middle;\n",
       "    }\n",
       "\n",
       "    .dataframe tbody tr th {\n",
       "        vertical-align: top;\n",
       "    }\n",
       "\n",
       "    .dataframe thead th {\n",
       "        text-align: right;\n",
       "    }\n",
       "</style>\n",
       "<table border=\"1\" class=\"dataframe\">\n",
       "  <thead>\n",
       "    <tr style=\"text-align: right;\">\n",
       "      <th></th>\n",
       "      <th>o</th>\n",
       "      <th>c</th>\n",
       "      <th>h</th>\n",
       "      <th>l</th>\n",
       "      <th>v</th>\n",
       "      <th>t</th>\n",
       "    </tr>\n",
       "  </thead>\n",
       "  <tbody>\n",
       "    <tr>\n",
       "      <th>995</th>\n",
       "      <td>173.59</td>\n",
       "      <td>173.20</td>\n",
       "      <td>173.74</td>\n",
       "      <td>173.16</td>\n",
       "      <td>13479</td>\n",
       "      <td>1648838700000</td>\n",
       "    </tr>\n",
       "    <tr>\n",
       "      <th>996</th>\n",
       "      <td>173.20</td>\n",
       "      <td>173.30</td>\n",
       "      <td>173.56</td>\n",
       "      <td>173.08</td>\n",
       "      <td>17439</td>\n",
       "      <td>1648839600000</td>\n",
       "    </tr>\n",
       "    <tr>\n",
       "      <th>997</th>\n",
       "      <td>173.31</td>\n",
       "      <td>173.03</td>\n",
       "      <td>173.46</td>\n",
       "      <td>172.88</td>\n",
       "      <td>16612</td>\n",
       "      <td>1648840500000</td>\n",
       "    </tr>\n",
       "    <tr>\n",
       "      <th>998</th>\n",
       "      <td>173.03</td>\n",
       "      <td>172.89</td>\n",
       "      <td>173.20</td>\n",
       "      <td>172.77</td>\n",
       "      <td>24319</td>\n",
       "      <td>1648841400000</td>\n",
       "    </tr>\n",
       "    <tr>\n",
       "      <th>999</th>\n",
       "      <td>172.88</td>\n",
       "      <td>174.26</td>\n",
       "      <td>174.65</td>\n",
       "      <td>172.77</td>\n",
       "      <td>65870</td>\n",
       "      <td>1648842300000</td>\n",
       "    </tr>\n",
       "  </tbody>\n",
       "</table>\n",
       "</div>"
      ],
      "text/plain": [
       "          o       c       h       l      v              t\n",
       "995  173.59  173.20  173.74  173.16  13479  1648838700000\n",
       "996  173.20  173.30  173.56  173.08  17439  1648839600000\n",
       "997  173.31  173.03  173.46  172.88  16612  1648840500000\n",
       "998  173.03  172.89  173.20  172.77  24319  1648841400000\n",
       "999  172.88  174.26  174.65  172.77  65870  1648842300000"
      ]
     },
     "execution_count": 312,
     "metadata": {},
     "output_type": "execute_result"
    }
   ],
   "source": [
    "def market_data(symbols, period, bar):\n",
    "    ### Obtener los datos historicos de un contrato\n",
    "    reqUrl = 'https://localhost:5000/v1/api/iserver/marketdata/history'\n",
    "    payload = {'conid':obtener_id(symbols),'period':period,'bar':bar}\n",
    "    response = requests.request(\"GET\", reqUrl, params=payload, verify=False )\n",
    "    response.encoding = 'utf-8'\n",
    "    return response.json()\n",
    "\n",
    "def obtener_id(symbols):\n",
    "    reqUrl = 'https://localhost:5000/v1/api/iserver/secdef/search'\n",
    "    payload = {'symbol':symbols,'name':'false','secType':'STK'}\n",
    "    response = requests.request(\"GET\", reqUrl, params=payload, verify=False )\n",
    "    response.encoding = 'utf-8'\n",
    "    return response.json()[0]['conid']\n",
    "\n",
    "aapl = pd.DataFrame(market_data('AAPL','1y','15min')['data'])\n",
    "aapl.tail()"
   ]
  },
  {
   "cell_type": "code",
   "execution_count": 308,
   "metadata": {},
   "outputs": [
    {
     "name": "stderr",
     "output_type": "stream",
     "text": [
      "/home/leox26/python3/oraculo/lib/python3.8/site-packages/urllib3/connectionpool.py:1043: InsecureRequestWarning: Unverified HTTPS request is being made to host 'localhost'. Adding certificate verification is strongly advised. See: https://urllib3.readthedocs.io/en/1.26.x/advanced-usage.html#ssl-warnings\n",
      "  warnings.warn(\n"
     ]
    },
    {
     "data": {
      "text/plain": [
       "265598"
      ]
     },
     "execution_count": 308,
     "metadata": {},
     "output_type": "execute_result"
    }
   ],
   "source": [
    "obtener_id('AAPL')"
   ]
  },
  {
   "cell_type": "code",
   "execution_count": 331,
   "metadata": {},
   "outputs": [
    {
     "ename": "ImportError",
     "evalue": "cannot import name 'market_data' from 'ibkrapi' (/home/leox26/Projects/oraculo/testing/ibkrapi.py)",
     "output_type": "error",
     "traceback": [
      "\u001b[0;31m---------------------------------------------------------------------------\u001b[0m",
      "\u001b[0;31mImportError\u001b[0m                               Traceback (most recent call last)",
      "\u001b[1;32m/home/leox26/Projects/oraculo/testing/finnhub.ipynb Cell 20'\u001b[0m in \u001b[0;36m<cell line: 2>\u001b[0;34m()\u001b[0m\n\u001b[1;32m      <a href='vscode-notebook-cell://wsl%2Bubuntu/home/leox26/Projects/oraculo/testing/finnhub.ipynb#ch0000024vscode-remote?line=0'>1</a>\u001b[0m \u001b[39mimport\u001b[39;00m \u001b[39mibkrapi\u001b[39;00m\n\u001b[0;32m----> <a href='vscode-notebook-cell://wsl%2Bubuntu/home/leox26/Projects/oraculo/testing/finnhub.ipynb#ch0000024vscode-remote?line=1'>2</a>\u001b[0m \u001b[39mfrom\u001b[39;00m \u001b[39mibkrapi\u001b[39;00m \u001b[39mimport\u001b[39;00m market_data\n\u001b[1;32m      <a href='vscode-notebook-cell://wsl%2Bubuntu/home/leox26/Projects/oraculo/testing/finnhub.ipynb#ch0000024vscode-remote?line=2'>3</a>\u001b[0m aapl \u001b[39m=\u001b[39m pd\u001b[39m.\u001b[39mDataFrame(ibkrapi\u001b[39m.\u001b[39mmarket_data\u001b[39m.\u001b[39mhistory(\u001b[39m'\u001b[39m\u001b[39mAAPL\u001b[39m\u001b[39m'\u001b[39m,\u001b[39m'\u001b[39m\u001b[39m52w\u001b[39m\u001b[39m'\u001b[39m, \u001b[39m'\u001b[39m\u001b[39m15min\u001b[39m\u001b[39m'\u001b[39m))\n",
      "\u001b[0;31mImportError\u001b[0m: cannot import name 'market_data' from 'ibkrapi' (/home/leox26/Projects/oraculo/testing/ibkrapi.py)"
     ]
    }
   ],
   "source": [
    "import ibkrapi\n",
    "from ibkrapi import market_data\n",
    "aapl = pd.DataFrame(ibkrapi.market_data.history('AAPL','52w', '15min'))"
   ]
  },
  {
   "cell_type": "code",
   "execution_count": 332,
   "metadata": {},
   "outputs": [
    {
     "ename": "AttributeError",
     "evalue": "module 'ibkrapi' has no attribute 'potafolio'",
     "output_type": "error",
     "traceback": [
      "\u001b[0;31m---------------------------------------------------------------------------\u001b[0m",
      "\u001b[0;31mAttributeError\u001b[0m                            Traceback (most recent call last)",
      "\u001b[1;32m/home/leox26/Projects/oraculo/testing/finnhub.ipynb Cell 21'\u001b[0m in \u001b[0;36m<cell line: 1>\u001b[0;34m()\u001b[0m\n\u001b[0;32m----> <a href='vscode-notebook-cell://wsl%2Bubuntu/home/leox26/Projects/oraculo/testing/finnhub.ipynb#ch0000027vscode-remote?line=0'>1</a>\u001b[0m pd\u001b[39m.\u001b[39mDataFrame(ibkrapi\u001b[39m.\u001b[39;49mpotafolio\u001b[39m.\u001b[39mobtener_portafolio())\n",
      "\u001b[0;31mAttributeError\u001b[0m: module 'ibkrapi' has no attribute 'potafolio'"
     ]
    }
   ],
   "source": [
    "pd.DataFrame(ibkrapi.potafolio.obtener_portafolio())"
   ]
  },
  {
   "cell_type": "code",
   "execution_count": null,
   "metadata": {},
   "outputs": [],
   "source": []
  }
 ],
 "metadata": {
  "interpreter": {
   "hash": "afffed67b07ba4c7da2ee38a9d64d6d5c8e32d4f82c29a58859f22e7218405c7"
  },
  "kernelspec": {
   "display_name": "Python 3.8.10 ('oraculo')",
   "language": "python",
   "name": "python3"
  },
  "language_info": {
   "codemirror_mode": {
    "name": "ipython",
    "version": 3
   },
   "file_extension": ".py",
   "mimetype": "text/x-python",
   "name": "python",
   "nbconvert_exporter": "python",
   "pygments_lexer": "ipython3",
   "version": "3.8.10"
  },
  "orig_nbformat": 4
 },
 "nbformat": 4,
 "nbformat_minor": 2
}
