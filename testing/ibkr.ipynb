{
 "cells": [
  {
   "cell_type": "code",
   "execution_count": null,
   "metadata": {},
   "outputs": [],
   "source": [
    "import ibkrapi\n",
    "pf = ibkrapi.obtener_portafolio()\n",
    "md = ibkrapi.market_data.market_data('AAPL','1y','15min')"
   ]
  }
 ],
 "metadata": {
  "language_info": {
   "name": "python"
  },
  "orig_nbformat": 4
 },
 "nbformat": 4,
 "nbformat_minor": 2
}
